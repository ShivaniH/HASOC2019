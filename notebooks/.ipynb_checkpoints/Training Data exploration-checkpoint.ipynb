{
 "cells": [
  {
   "cell_type": "markdown",
   "metadata": {},
   "source": [
    "## Tasks and Classes\n",
    "\n",
    "\n",
    "### Sub-task A :-\n",
    "Sub-task A focus on Hate speech and Offensive language identification offered for English, German, Hindi. Sub-task A is coarse-grained binary classification in which participating system are required to classify tweets into two class, namely: Hate and Offensive (HOF) and Non- Hate and offensive (NOT).\n",
    "\n",
    "* **(NOT) Non Hate-Offensive** - This post does not contain any Hate speech, offensive content.\n",
    "* **(HOF) Hate and Offensive** - This post contains Hate, offensive, and profane content.\n",
    "\n",
    "In our annotation, we label a post as HOF if it contains any form of non-acceptable language such as hate speech, aggression, profanity otherwise NOT.\n",
    "\n",
    "\n",
    "### Sub-task B :-\n",
    "Sub-task B is a fine-grained classification. Hate-speech and offensive posts from the sub-task A are further classified into three categories.\n",
    "\n",
    "* **(HATE) Hate speech** :- Posts under this class contain Hate speech content.\n",
    "* **(OFFN) Offenive** :- Posts under this class contain offensive content.\n",
    "* **(PRFN) Profane** :- These posts contain profane words.\n",
    "\n",
    "\n",
    "#### HATE SPEECH\n",
    "Describing negative attributes or deficiencies to groups of individuals because they are members of a group (e.g. all poor people are stupid). Hateful comment toward groups because of race, political opinion, sexual orientation, gender, social status, health condition or similar.\n",
    "\n",
    "#### OFFENSIVE\n",
    "Posts which are degrading, dehumanizing,insulting an individual,threatening with violent acts are categorized into OFFENSIVE category.\n",
    "\n",
    "#### PROFANITY\n",
    "Unacceptable language in the absence of insults and abuse. This typically concerns the usage of swearwords (Scheiße, Fuck etc.) and cursing (Zur Hölle! Verdammt! etc.) are categorized into this category.\n",
    "We expect most posts to be OTHER, some to be HATE and the other two categories to be less frequent. Dubious cases which are difficult to decide even for humans, should be left out.\n",
    "\n",
    "\n",
    "### Sub-task C :-\n",
    "Sub-task c will check the type of offense. Only posts labeled as HOF in sub-task A are included in sub-task C. The two categories in sub-task C are the following: \n",
    "\n",
    "* **Targeted Insult (TIN)**: Posts containing an insult/threat to an individual, group, or others.\n",
    "* **Untargeted (UNT)**: Posts containing nontargeted profanity and swearing. Posts with general profanity are not targeted, but they contain non-acceptable language.\n",
    "The multilingual HASOC Corpus will be sampled from Facebook and Twitter and distributed in tab separated format. Participants are allowed to use external resources and other datasets for this task. Dataset will be prepared in 3 languages (German, English and code-mixed hindi).\n",
    "\n",
    "The size of Training data corpus is approximately 8000 posts for each language and Test data is approximately 1000 posts for the each language. Classification systems in all tasks will be evaluated using either macro-averaged F1-score or weighted F1-score."
   ]
  },
  {
   "cell_type": "code",
   "execution_count": 1,
   "metadata": {},
   "outputs": [],
   "source": [
    "%matplotlib inline\n",
    "\n",
    "import pandas as pd\n",
    "import matplotlib.pyplot as plt\n",
    "import seaborn as sns"
   ]
  },
  {
   "cell_type": "code",
   "execution_count": 7,
   "metadata": {},
   "outputs": [],
   "source": [
    "DATA_PATHS = {\n",
    "    \"EN\": \"../data/raw/teaser_data/english_dataset.tsv\",\n",
    "    \"DE\": \"../data/raw/teaser_data/german_dataset.tsv\",\n",
    "    \"HI\": \"../data/raw/teaser_data/hindi_dataset.tsv\"\n",
    "}\n",
    "DATA_COLUMNS = [\"row_id\", \"text\", \"task_A\", \"task_B\", \"task_C\"]"
   ]
  },
  {
   "cell_type": "code",
   "execution_count": 19,
   "metadata": {},
   "outputs": [
    {
     "data": {
      "text/html": [
       "<div>\n",
       "<style scoped>\n",
       "    .dataframe tbody tr th:only-of-type {\n",
       "        vertical-align: middle;\n",
       "    }\n",
       "\n",
       "    .dataframe tbody tr th {\n",
       "        vertical-align: top;\n",
       "    }\n",
       "\n",
       "    .dataframe thead th {\n",
       "        text-align: right;\n",
       "    }\n",
       "</style>\n",
       "<table border=\"1\" class=\"dataframe\">\n",
       "  <thead>\n",
       "    <tr style=\"text-align: right;\">\n",
       "      <th></th>\n",
       "      <th>row_id</th>\n",
       "      <th>text</th>\n",
       "      <th>task_A</th>\n",
       "      <th>task_B</th>\n",
       "      <th>task_C</th>\n",
       "    </tr>\n",
       "  </thead>\n",
       "  <tbody>\n",
       "    <tr>\n",
       "      <th>0</th>\n",
       "      <td>hasoc_english_1</td>\n",
       "      <td>RT @AmitShah: Today I will be holding a road s...</td>\n",
       "      <td>NOT</td>\n",
       "      <td>NULL</td>\n",
       "      <td>NULL</td>\n",
       "    </tr>\n",
       "    <tr>\n",
       "      <th>1</th>\n",
       "      <td>hasoc_english_2</td>\n",
       "      <td>RT @AisiTaisiDemo: So BJP's VP is saying that ...</td>\n",
       "      <td>HOF</td>\n",
       "      <td>OFFN</td>\n",
       "      <td>TIN</td>\n",
       "    </tr>\n",
       "    <tr>\n",
       "      <th>2</th>\n",
       "      <td>hasoc_english_3</td>\n",
       "      <td>RT @sambitswaraj: So finally ...the “Jewel(मणि...</td>\n",
       "      <td>HOF</td>\n",
       "      <td>OFFN</td>\n",
       "      <td>TIN</td>\n",
       "    </tr>\n",
       "    <tr>\n",
       "      <th>3</th>\n",
       "      <td>hasoc_english_4</td>\n",
       "      <td>RT @t_d_h_nair: 79000 people from 13 districts...</td>\n",
       "      <td>HOF</td>\n",
       "      <td>OFFN</td>\n",
       "      <td>TIN</td>\n",
       "    </tr>\n",
       "    <tr>\n",
       "      <th>4</th>\n",
       "      <td>hasoc_english_5</td>\n",
       "      <td>RT @bainjal: “50 crore girl friend”, “Jersey c...</td>\n",
       "      <td>HOF</td>\n",
       "      <td>OFFN</td>\n",
       "      <td>TIN</td>\n",
       "    </tr>\n",
       "  </tbody>\n",
       "</table>\n",
       "</div>"
      ],
      "text/plain": [
       "            row_id                                               text task_A  \\\n",
       "0  hasoc_english_1  RT @AmitShah: Today I will be holding a road s...    NOT   \n",
       "1  hasoc_english_2  RT @AisiTaisiDemo: So BJP's VP is saying that ...    HOF   \n",
       "2  hasoc_english_3  RT @sambitswaraj: So finally ...the “Jewel(मणि...    HOF   \n",
       "3  hasoc_english_4  RT @t_d_h_nair: 79000 people from 13 districts...    HOF   \n",
       "4  hasoc_english_5  RT @bainjal: “50 crore girl friend”, “Jersey c...    HOF   \n",
       "\n",
       "  task_B task_C  \n",
       "0   NULL   NULL  \n",
       "1   OFFN    TIN  \n",
       "2   OFFN    TIN  \n",
       "3   OFFN    TIN  \n",
       "4   OFFN    TIN  "
      ]
     },
     "execution_count": 19,
     "metadata": {},
     "output_type": "execute_result"
    }
   ],
   "source": [
    "df = pd.read_csv(DATA_PATHS[\"EN\"], sep=\"\\t\", header=None, names=DATA_COLUMNS).fillna(\"NULL\")\n",
    "df.head()"
   ]
  },
  {
   "cell_type": "code",
   "execution_count": 20,
   "metadata": {},
   "outputs": [
    {
     "data": {
      "image/png": "[encoded data removed]",
      "text/plain": [
       "<Figure size 1080x288 with 3 Axes>"
      ]
     },
     "metadata": {
      "needs_background": "light"
     },
     "output_type": "display_data"
    }
   ],
   "source": [
    "fig, ax = plt.subplots(1, 3, sharey=True, figsize=(15, 4))\n",
    "for axi, task in zip(ax.flatten(), [\"task_A\", \"task_B\", \"task_C\"]):\n",
    "    sns.countplot(df[task], ax=axi, color=\"0.3\")\n",
    "sns.despine(offset=10)"
   ]
  },
  {
   "cell_type": "code",
   "execution_count": 21,
   "metadata": {},
   "outputs": [
    {
     "data": {
      "image/png": "[encoded data removed]",
      "text/plain": [
       "<Figure size 1080x288 with 3 Axes>"
      ]
     },
     "metadata": {
      "needs_background": "light"
     },
     "output_type": "display_data"
    }
   ],
   "source": [
    "df = pd.read_csv(DATA_PATHS[\"DE\"], sep=\"\\t\", header=None, names=DATA_COLUMNS).fillna(\"NULL\")\n",
    "fig, ax = plt.subplots(1, 3, sharey=True, figsize=(15, 4))\n",
    "for axi, task in zip(ax.flatten(), [\"task_A\", \"task_B\", \"task_C\"]):\n",
    "    sns.countplot(df[task], ax=axi, color=\"0.3\")\n",
    "sns.despine(offset=10)"
   ]
  },
  {
   "cell_type": "code",
   "execution_count": 22,
   "metadata": {},
   "outputs": [
    {
     "data": {
      "image/png": "[encoded data removed]",
      "text/plain": [
       "<Figure size 1080x288 with 3 Axes>"
      ]
     },
     "metadata": {
      "needs_background": "light"
     },
     "output_type": "display_data"
    }
   ],
   "source": [
    "df = pd.read_csv(DATA_PATHS[\"HI\"], sep=\"\\t\", header=None, names=DATA_COLUMNS).fillna(\"NULL\")\n",
    "fig, ax = plt.subplots(1, 3, sharey=True, figsize=(15, 4))\n",
    "for axi, task in zip(ax.flatten(), [\"task_A\", \"task_B\", \"task_C\"]):\n",
    "    sns.countplot(df[task], ax=axi, color=\"0.3\")\n",
    "sns.despine(offset=10)"
   ]
  },
  {
   "cell_type": "code",
   "execution_count": null,
   "metadata": {},
   "outputs": [],
   "source": []
  }
 ],
 "metadata": {
  "kernelspec": {
   "display_name": "Python [conda env:TwitterEPSNS]",
   "language": "python",
   "name": "conda-env-TwitterEPSNS-py"
  },
  "language_info": {
   "codemirror_mode": {
    "name": "ipython",
    "version": 3
   },
   "file_extension": ".py",
   "mimetype": "text/x-python",
   "name": "python",
   "nbconvert_exporter": "python",
   "pygments_lexer": "ipython3",
   "version": "3.6.8"
  }
 },
 "nbformat": 4,
 "nbformat_minor": 2
}
