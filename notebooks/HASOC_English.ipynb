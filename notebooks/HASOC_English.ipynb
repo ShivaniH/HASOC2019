{
  "nbformat": 4,
  "nbformat_minor": 0,
  "metadata": {
    "colab": {
      "name": "HASOC - English.ipynb",
      "version": "0.3.2",
      "provenance": [],
      "collapsed_sections": [],
      "include_colab_link": true
    },
    "kernelspec": {
      "name": "python3",
      "display_name": "Python 3"
    },
    "accelerator": "GPU"
  },
  "cells": [
    {
      "cell_type": "markdown",
      "metadata": {
        "id": "view-in-github",
        "colab_type": "text"
      },
      "source": [
        "<a href=\"https://colab.research.google.com/github/napsternxg/HASOC2019/blob/master/notebooks/HASOC_English.ipynb\" target=\"_parent\"><img src=\"https://colab.research.google.com/assets/colab-badge.svg\" alt=\"Open In Colab\"/></a>"
      ]
    },
    {
      "cell_type": "code",
      "metadata": {
        "id": "7mEYBDi8iG49",
        "colab_type": "code",
        "outputId": "4fd2cae5-0241-4e95-d380-22232f828beb",
        "colab": {
          "base_uri": "https://localhost:8080/",
          "height": 693
        }
      },
      "source": [
        "%%bash\n",
        "pip install torch pytorch-transformers tensorboardX tf-nightly-2.0-preview\n",
        "# Install apex\n",
        "if [ ! -d \"/content/apex\" ]; then\n",
        "  git clone https://github.com/NVIDIA/apex.git\n",
        "  pip install -v --no-cache-dir --global-option=\"--cpp_ext\" --global-option=\"--cuda_ext\" /content/apex\n",
        "else\n",
        "  echo \"Apex cloned and installed\";\n",
        "fi"
      ],
      "execution_count": 1,
      "outputs": [
        {
          "output_type": "stream",
          "text": [
            "Requirement already satisfied: torch in /usr/local/lib/python3.6/dist-packages (1.1.0)\n",
            "Requirement already satisfied: pytorch-transformers in /usr/local/lib/python3.6/dist-packages (1.1.0)\n",
            "Requirement already satisfied: tensorboardX in /usr/local/lib/python3.6/dist-packages (1.8)\n",
            "Requirement already satisfied: tf-nightly-2.0-preview in /usr/local/lib/python3.6/dist-packages (2.0.0.dev20190820)\n",
            "Requirement already satisfied: numpy in /usr/local/lib/python3.6/dist-packages (from torch) (1.16.4)\n",
            "Requirement already satisfied: boto3 in /usr/local/lib/python3.6/dist-packages (from pytorch-transformers) (1.9.205)\n",
            "Requirement already satisfied: sentencepiece in /usr/local/lib/python3.6/dist-packages (from pytorch-transformers) (0.1.83)\n",
            "Requirement already satisfied: regex in /usr/local/lib/python3.6/dist-packages (from pytorch-transformers) (2019.8.19)\n",
            "Requirement already satisfied: tqdm in /usr/local/lib/python3.6/dist-packages (from pytorch-transformers) (4.28.1)\n",
            "Requirement already satisfied: requests in /usr/local/lib/python3.6/dist-packages (from pytorch-transformers) (2.21.0)\n",
            "Requirement already satisfied: six in /usr/local/lib/python3.6/dist-packages (from tensorboardX) (1.12.0)\n",
            "Requirement already satisfied: protobuf>=3.2.0 in /usr/local/lib/python3.6/dist-packages (from tensorboardX) (3.7.1)\n",
            "Requirement already satisfied: tb-nightly<1.16.0a0,>=1.15.0a0 in /usr/local/lib/python3.6/dist-packages (from tf-nightly-2.0-preview) (1.15.0a20190820)\n",
            "Requirement already satisfied: wrapt>=1.11.1 in /usr/local/lib/python3.6/dist-packages (from tf-nightly-2.0-preview) (1.11.2)\n",
            "Requirement already satisfied: astor>=0.6.0 in /usr/local/lib/python3.6/dist-packages (from tf-nightly-2.0-preview) (0.8.0)\n",
            "Requirement already satisfied: keras-preprocessing>=1.0.5 in /usr/local/lib/python3.6/dist-packages (from tf-nightly-2.0-preview) (1.1.0)\n",
            "Requirement already satisfied: google-pasta>=0.1.6 in /usr/local/lib/python3.6/dist-packages (from tf-nightly-2.0-preview) (0.1.7)\n",
            "Requirement already satisfied: wheel>=0.26 in /usr/local/lib/python3.6/dist-packages (from tf-nightly-2.0-preview) (0.33.4)\n",
            "Requirement already satisfied: tensorflow-estimator-2.0-preview in /usr/local/lib/python3.6/dist-packages (from tf-nightly-2.0-preview) (1.14.0.dev2019082001)\n",
            "Requirement already satisfied: termcolor>=1.1.0 in /usr/local/lib/python3.6/dist-packages (from tf-nightly-2.0-preview) (1.1.0)\n",
            "Requirement already satisfied: absl-py>=0.7.0 in /usr/local/lib/python3.6/dist-packages (from tf-nightly-2.0-preview) (0.7.1)\n",
            "Requirement already satisfied: opt-einsum>=2.3.2 in /usr/local/lib/python3.6/dist-packages (from tf-nightly-2.0-preview) (3.0.0)\n",
            "Requirement already satisfied: keras-applications>=1.0.8 in /usr/local/lib/python3.6/dist-packages (from tf-nightly-2.0-preview) (1.0.8)\n",
            "Requirement already satisfied: grpcio>=1.8.6 in /usr/local/lib/python3.6/dist-packages (from tf-nightly-2.0-preview) (1.15.0)\n",
            "Requirement already satisfied: gast>=0.2.0 in /usr/local/lib/python3.6/dist-packages (from tf-nightly-2.0-preview) (0.2.2)\n",
            "Requirement already satisfied: jmespath<1.0.0,>=0.7.1 in /usr/local/lib/python3.6/dist-packages (from boto3->pytorch-transformers) (0.9.4)\n",
            "Requirement already satisfied: s3transfer<0.3.0,>=0.2.0 in /usr/local/lib/python3.6/dist-packages (from boto3->pytorch-transformers) (0.2.1)\n",
            "Requirement already satisfied: botocore<1.13.0,>=1.12.205 in /usr/local/lib/python3.6/dist-packages (from boto3->pytorch-transformers) (1.12.205)\n",
            "Requirement already satisfied: urllib3<1.25,>=1.21.1 in /usr/local/lib/python3.6/dist-packages (from requests->pytorch-transformers) (1.24.3)\n",
            "Requirement already satisfied: certifi>=2017.4.17 in /usr/local/lib/python3.6/dist-packages (from requests->pytorch-transformers) (2019.6.16)\n",
            "Requirement already satisfied: chardet<3.1.0,>=3.0.2 in /usr/local/lib/python3.6/dist-packages (from requests->pytorch-transformers) (3.0.4)\n",
            "Requirement already satisfied: idna<2.9,>=2.5 in /usr/local/lib/python3.6/dist-packages (from requests->pytorch-transformers) (2.8)\n",
            "Requirement already satisfied: setuptools in /usr/local/lib/python3.6/dist-packages (from protobuf>=3.2.0->tensorboardX) (41.0.1)\n",
            "Requirement already satisfied: werkzeug>=0.11.15 in /usr/local/lib/python3.6/dist-packages (from tb-nightly<1.16.0a0,>=1.15.0a0->tf-nightly-2.0-preview) (0.15.5)\n",
            "Requirement already satisfied: markdown>=2.6.8 in /usr/local/lib/python3.6/dist-packages (from tb-nightly<1.16.0a0,>=1.15.0a0->tf-nightly-2.0-preview) (3.1.1)\n",
            "Requirement already satisfied: h5py in /usr/local/lib/python3.6/dist-packages (from keras-applications>=1.0.8->tf-nightly-2.0-preview) (2.8.0)\n",
            "Requirement already satisfied: python-dateutil<3.0.0,>=2.1; python_version >= \"2.7\" in /usr/local/lib/python3.6/dist-packages (from botocore<1.13.0,>=1.12.205->boto3->pytorch-transformers) (2.5.3)\n",
            "Requirement already satisfied: docutils<0.15,>=0.10 in /usr/local/lib/python3.6/dist-packages (from botocore<1.13.0,>=1.12.205->boto3->pytorch-transformers) (0.14)\n",
            "Apex cloned and installed\n"
          ],
          "name": "stdout"
        }
      ]
    },
    {
      "cell_type": "code",
      "metadata": {
        "id": "Ws4Lm4_fiT4F",
        "colab_type": "code",
        "outputId": "43a2f1e8-cc15-4336-855b-abaa0de8a34e",
        "colab": {
          "base_uri": "https://localhost:8080/",
          "height": 34
        }
      },
      "source": [
        "from google.colab import drive\n",
        "drive.mount('/content/gdrive')"
      ],
      "execution_count": 2,
      "outputs": [
        {
          "output_type": "stream",
          "text": [
            "Drive already mounted at /content/gdrive; to attempt to forcibly remount, call drive.mount(\"/content/gdrive\", force_remount=True).\n"
          ],
          "name": "stdout"
        }
      ]
    },
    {
      "cell_type": "code",
      "metadata": {
        "id": "qi8D3d0WiwyR",
        "colab_type": "code",
        "outputId": "92ff05cc-3e73-4ef7-fea4-8739c20ed7aa",
        "colab": {
          "base_uri": "https://localhost:8080/",
          "height": 34
        }
      },
      "source": [
        "%env HASOC_PATH /content/gdrive/My Drive/HASOC2019/"
      ],
      "execution_count": 3,
      "outputs": [
        {
          "output_type": "stream",
          "text": [
            "env: HASOC_PATH=/content/gdrive/My Drive/HASOC2019/\n"
          ],
          "name": "stdout"
        }
      ]
    },
    {
      "cell_type": "code",
      "metadata": {
        "id": "Grv5Qkfhi3IG",
        "colab_type": "code",
        "outputId": "1d324e67-ada2-4858-fd51-a88d389f3fb2",
        "colab": {
          "base_uri": "https://localhost:8080/",
          "height": 381
        }
      },
      "source": [
        "%%bash \n",
        "echo \"${HASOC_PATH}\"\n",
        "ls -ltrh \"${HASOC_PATH}/data\"\n",
        "realpath \"${HASOC_PATH}\"\n",
        "ls -ltrh \"${HASOC_PATH}\"/data/**/*"
      ],
      "execution_count": 4,
      "outputs": [
        {
          "output_type": "stream",
          "text": [
            "/content/gdrive/My Drive/HASOC2019/\n",
            "total 4.0K\n",
            "drwx------ 5 root root 4.0K Aug 20 05:37 raw\n",
            "/content/gdrive/My Drive/HASOC2019\n",
            "/content/gdrive/My Drive/HASOC2019//data/raw/training_data:\n",
            "total 3.6M\n",
            "-rw------- 1 root root 1.7M Aug 20 05:37 hindi_dataset.tsv\n",
            "-rw------- 1 root root 762K Aug 20 05:37 german_dataset.tsv\n",
            "-rw------- 1 root root 1.2M Aug 20 05:37 english_dataset.tsv\n",
            "\n",
            "/content/gdrive/My Drive/HASOC2019//data/raw/test_data:\n",
            "total 973K\n",
            "-rw------- 1 root root 594K Aug 20 05:37 hindi_dataset.tsv\n",
            "-rw------- 1 root root 167K Aug 20 05:37 german_dataset.tsv\n",
            "-rw------- 1 root root 212K Aug 20 05:37 english_dataset.tsv\n",
            "\n",
            "/content/gdrive/My Drive/HASOC2019//data/raw/teaser_data:\n",
            "total 293K\n",
            "-rw------- 1 root root  36K Aug 20 05:37 hindi_dataset.tsv\n",
            "-rw------- 1 root root 137K Aug 20 05:37 german_dataset.tsv\n",
            "-rw------- 1 root root 121K Aug 20 05:37 english_dataset.tsv\n"
          ],
          "name": "stdout"
        }
      ]
    },
    {
      "cell_type": "code",
      "metadata": {
        "id": "rLlWDom4jjdx",
        "colab_type": "code",
        "colab": {}
      },
      "source": [
        "%load_ext tensorboard\n",
        "import pandas as pd\n",
        "import matplotlib.pyplot as plt\n",
        "import seaborn as sns\n",
        "import os"
      ],
      "execution_count": 0,
      "outputs": []
    },
    {
      "cell_type": "code",
      "metadata": {
        "id": "vpuen4pEjkmf",
        "colab_type": "code",
        "outputId": "013144ba-3286-4677-e08f-5a9a00b8c2ca",
        "colab": {
          "base_uri": "https://localhost:8080/",
          "height": 54
        }
      },
      "source": [
        "BASE_PATH = os.environ.get(\"HASOC_PATH\")\n",
        "DATA_PATHS_TRAIN = {\n",
        "    \"EN\": f\"{BASE_PATH}/data/raw/training_data/english_dataset.tsv\",\n",
        "    \"DE\": f\"{BASE_PATH}/data/raw/training_data/german_dataset.tsv\",\n",
        "    \"HI\": f\"{BASE_PATH}/data/raw/training_data/hindi_dataset.tsv\"\n",
        "}\n",
        "DATA_PATHS_DEV = {\n",
        "    \"EN\": f\"{BASE_PATH}/data/raw/teaser_data/english_dataset.tsv\",\n",
        "    \"DE\": f\"{BASE_PATH}/data/raw/teaser_data/german_dataset.tsv\",\n",
        "    \"HI\": f\"{BASE_PATH}/data/raw/teaser_data/hindi_dataset.tsv\"\n",
        "}\n",
        "print(DATA_PATHS_TRAIN)\n",
        "DATA_COLUMNS = [\"row_id\", \"text\", \"task_1\", \"task_2\", \"task_3\"]\n",
        "NUM_LANGUAGES = len(DATA_PATHS_TRAIN)"
      ],
      "execution_count": 6,
      "outputs": [
        {
          "output_type": "stream",
          "text": [
            "{'EN': '/content/gdrive/My Drive/HASOC2019//data/raw/training_data/english_dataset.tsv', 'DE': '/content/gdrive/My Drive/HASOC2019//data/raw/training_data/german_dataset.tsv', 'HI': '/content/gdrive/My Drive/HASOC2019//data/raw/training_data/hindi_dataset.tsv'}\n"
          ],
          "name": "stdout"
        }
      ]
    },
    {
      "cell_type": "code",
      "metadata": {
        "id": "WnIDdd-8jpYx",
        "colab_type": "code",
        "outputId": "14ff7227-7a7d-464a-a52a-1d4ba7702e35",
        "colab": {
          "base_uri": "https://localhost:8080/",
          "height": 1000
        }
      },
      "source": [
        "for data_type, DATA_PATHS in [(\"train\", DATA_PATHS_TRAIN), (\"dev\", DATA_PATHS_DEV)]:\n",
        "    print(data_type)\n",
        "    for lang, path in DATA_PATHS.items():\n",
        "        df = pd.read_csv(path, sep=\"\\t\").fillna(\"NULL\")\n",
        "        task_cols = df.filter(regex=r'task_*', axis=1).columns\n",
        "        n_cols = len(task_cols)\n",
        "        fig, ax = plt.subplots(1, n_cols, sharey=True, figsize=(5*n_cols, 4))\n",
        "        for axi, task in zip(ax.flatten(), task_cols):\n",
        "            y = df[task].str.upper().replace(\"NULL\", \"NONE\")\n",
        "            sns.countplot(y, order=sorted(y.unique()), ax=axi, color=\"0.3\")\n",
        "        fig.suptitle(f\"data_type={data_type}, lang={lang}\")\n",
        "        sns.despine(offset=10)"
      ],
      "execution_count": 7,
      "outputs": [
        {
          "output_type": "stream",
          "text": [
            "train\n",
            "dev\n"
          ],
          "name": "stdout"
        },
        {
          "output_type": "display_data",
          "data": {
            "image/png": "[encoded data removed]",
            "text/plain": [
              "<Figure size 1080x288 with 3 Axes>"
            ]
          },
          "metadata": {
            "tags": []
          }
        },
        {
          "output_type": "display_data",
          "data": {
            "image/png": "[encoded data removed]",
            "text/plain": [
              "<Figure size 720x288 with 2 Axes>"
            ]
          },
          "metadata": {
            "tags": []
          }
        },
        {
          "output_type": "display_data",
          "data": {
            "image/png": "[encoded data removed]",
            "text/plain": [
              "<Figure size 1080x288 with 3 Axes>"
            ]
          },
          "metadata": {
            "tags": []
          }
        },
        {
          "output_type": "display_data",
          "data": {
            "image/png": "[encoded data removed]",
            "text/plain": [
              "<Figure size 1080x288 with 3 Axes>"
            ]
          },
          "metadata": {
            "tags": []
          }
        },
        {
          "output_type": "display_data",
          "data": {
            "image/png": "[encoded data removed]",
            "text/plain": [
              "<Figure size 720x288 with 2 Axes>"
            ]
          },
          "metadata": {
            "tags": []
          }
        },
        {
          "output_type": "display_data",
          "data": {
            "image/png": "[encoded data removed]",
            "text/plain": [
              "<Figure size 1080x288 with 3 Axes>"
            ]
          },
          "metadata": {
            "tags": []
          }
        }
      ]
    },
    {
      "cell_type": "code",
      "metadata": {
        "id": "wqFSSw3ajJq8",
        "colab_type": "code",
        "colab": {}
      },
      "source": [
        "import torch\n",
        "from torch.utils.data import (DataLoader, RandomSampler, SequentialSampler,\n",
        "                              TensorDataset)\n",
        "from torch.utils.data.distributed import DistributedSampler\n",
        "from tensorboardX import SummaryWriter\n",
        "from tqdm import tqdm, trange\n",
        "from pytorch_transformers import *"
      ],
      "execution_count": 0,
      "outputs": []
    },
    {
      "cell_type": "code",
      "metadata": {
        "id": "mRGfk3ndkRIM",
        "colab_type": "code",
        "colab": {}
      },
      "source": [
        "MODELS = [(BertModel,       BertTokenizer,      'bert-base-cased'),\n",
        "          (OpenAIGPTModel,  OpenAIGPTTokenizer, 'openai-gpt'),\n",
        "          (GPT2Model,       GPT2Tokenizer,      'gpt2'),\n",
        "          (TransfoXLModel,  TransfoXLTokenizer, 'transfo-xl-wt103'),\n",
        "          (XLNetModel,      XLNetTokenizer,     'xlnet-base-cased'),\n",
        "          (XLMModel,        XLMTokenizer,       'xlm-mlm-enfr-1024'),\n",
        "          (RobertaModel,    RobertaTokenizer,   'roberta-base')]"
      ],
      "execution_count": 0,
      "outputs": []
    },
    {
      "cell_type": "code",
      "metadata": {
        "id": "DZ_kJQsnkYMm",
        "colab_type": "code",
        "colab": {}
      },
      "source": [
        "BERT_MODEL_TYPE='bert-base-cased'\n",
        "tokenizer = BertTokenizer.from_pretrained(BERT_MODEL_TYPE, do_lower_case=False)\n",
        "model = BertForSequenceClassification.from_pretrained(BERT_MODEL_TYPE, num_labels=3)"
      ],
      "execution_count": 0,
      "outputs": []
    },
    {
      "cell_type": "code",
      "metadata": {
        "id": "qiTWhqngkw2m",
        "colab_type": "code",
        "colab": {}
      },
      "source": [
        "input_ids = torch.tensor([tokenizer.encode(f\"{tokenizer.cls_token} Let's see all hidden-states and attentions on this text {tokenizer.sep_token}\")])"
      ],
      "execution_count": 0,
      "outputs": []
    },
    {
      "cell_type": "code",
      "metadata": {
        "id": "XxJModmwlAk3",
        "colab_type": "code",
        "outputId": "ff389ea9-e26f-4613-ce99-bbdcd9f69191",
        "colab": {
          "base_uri": "https://localhost:8080/",
          "height": 34
        }
      },
      "source": [
        "with torch.no_grad():\n",
        "  print(model(input_ids, labels=torch.LongTensor([[0]])))"
      ],
      "execution_count": 12,
      "outputs": [
        {
          "output_type": "stream",
          "text": [
            "(tensor(1.1811), tensor([[-0.0554,  0.1293, -0.0018]]))\n"
          ],
          "name": "stdout"
        }
      ]
    },
    {
      "cell_type": "code",
      "metadata": {
        "id": "yfsTBgeWlDtn",
        "colab_type": "code",
        "outputId": "62b42ba7-8a7c-4fbe-ac11-004eccfc1cbd",
        "colab": {
          "base_uri": "https://localhost:8080/",
          "height": 51
        }
      },
      "source": [
        "input_ids"
      ],
      "execution_count": 13,
      "outputs": [
        {
          "output_type": "execute_result",
          "data": {
            "text/plain": [
              "tensor([[ 101, 2421,  112,  188, 1267, 1155, 4610,  118, 2231, 1105, 2209, 1116,\n",
              "         1113, 1142, 3087,  102]])"
            ]
          },
          "metadata": {
            "tags": []
          },
          "execution_count": 13
        }
      ]
    },
    {
      "cell_type": "code",
      "metadata": {
        "id": "CRGLfkwanqjM",
        "colab_type": "code",
        "outputId": "2720b9a7-7c2a-485e-e03b-a573874df8e6",
        "colab": {
          "base_uri": "https://localhost:8080/",
          "height": 294
        }
      },
      "source": [
        "tokenizer.convert_ids_to_tokens(input_ids.numpy()[0])"
      ],
      "execution_count": 14,
      "outputs": [
        {
          "output_type": "execute_result",
          "data": {
            "text/plain": [
              "['[CLS]',\n",
              " 'Let',\n",
              " \"'\",\n",
              " 's',\n",
              " 'see',\n",
              " 'all',\n",
              " 'hidden',\n",
              " '-',\n",
              " 'states',\n",
              " 'and',\n",
              " 'attention',\n",
              " '##s',\n",
              " 'on',\n",
              " 'this',\n",
              " 'text',\n",
              " '[SEP]']"
            ]
          },
          "metadata": {
            "tags": []
          },
          "execution_count": 14
        }
      ]
    },
    {
      "cell_type": "code",
      "metadata": {
        "id": "qz1MXjIRnzBA",
        "colab_type": "code",
        "outputId": "628d5851-13ab-45cb-abc5-0cff61c60350",
        "colab": {
          "base_uri": "https://localhost:8080/",
          "height": 34
        }
      },
      "source": [
        "tokenizer.cls_token"
      ],
      "execution_count": 15,
      "outputs": [
        {
          "output_type": "execute_result",
          "data": {
            "text/plain": [
              "'[CLS]'"
            ]
          },
          "metadata": {
            "tags": []
          },
          "execution_count": 15
        }
      ]
    },
    {
      "cell_type": "code",
      "metadata": {
        "id": "mC-LLkXcoS-N",
        "colab_type": "code",
        "outputId": "c6df3247-c113-469d-dd81-2ce126d2c24a",
        "colab": {
          "base_uri": "https://localhost:8080/",
          "height": 329
        }
      },
      "source": [
        "TASK_LABEL_IDS = {\n",
        "    \"task_1\": [\"NOT\", \"HOF\"],\n",
        "    \"task_2\": [\"HATE\", \"OFFN\", \"PRFN\"],\n",
        "    \"task_3\": [\"TIN\", \"UNT\"],\n",
        "}\n",
        "\n",
        "for data_type, DATA_PATHS in [(\"train\", DATA_PATHS_TRAIN), (\"dev\", DATA_PATHS_DEV)]:\n",
        "    print(data_type)\n",
        "    for lang, path in DATA_PATHS.items():\n",
        "        df = pd.read_csv(path, sep=\"\\t\").fillna(\"NULL\")\n",
        "        task_cols = df.filter(regex=r'task_*', axis=1).columns\n",
        "        n_cols = len(task_cols)\n",
        "        for task in task_cols:\n",
        "            y = df[task].str.upper().replace(\"NULL\", \"NONE\")\n",
        "            idx = (y != \"NONE\")\n",
        "            df_t = df[idx]\n",
        "            df_bert = pd.DataFrame({\n",
        "              'id':list(range(df_t.shape[0])),\n",
        "              'label':y[idx],\n",
        "              'alpha':['a']*df_t.shape[0],\n",
        "              'text': df_t[\"text\"].replace(r'\\n', ' ', regex=True)\n",
        "            })\n",
        "            os.makedirs(os.path.join(\"./\", lang, task), exist_ok=True)\n",
        "            bert_format_path = os.path.join(\"./\", lang, task, f\"{data_type}.tsv\")\n",
        "            print(bert_format_path)\n",
        "            df_bert.to_csv(bert_format_path, sep='\\t', index=False, header=False)"
      ],
      "execution_count": 16,
      "outputs": [
        {
          "output_type": "stream",
          "text": [
            "train\n",
            "./EN/task_1/train.tsv\n",
            "./EN/task_2/train.tsv\n",
            "./EN/task_3/train.tsv\n",
            "./DE/task_1/train.tsv\n",
            "./DE/task_2/train.tsv\n",
            "./HI/task_1/train.tsv\n",
            "./HI/task_2/train.tsv\n",
            "./HI/task_3/train.tsv\n",
            "dev\n",
            "./EN/task_1/dev.tsv\n",
            "./EN/task_2/dev.tsv\n",
            "./EN/task_3/dev.tsv\n",
            "./DE/task_1/dev.tsv\n",
            "./DE/task_2/dev.tsv\n",
            "./HI/task_1/dev.tsv\n",
            "./HI/task_2/dev.tsv\n",
            "./HI/task_3/dev.tsv\n"
          ],
          "name": "stdout"
        }
      ]
    },
    {
      "cell_type": "code",
      "metadata": {
        "id": "AhclBGH5vURX",
        "colab_type": "code",
        "colab": {}
      },
      "source": [
        "class InputExample(object):\n",
        "    \"\"\"A single training/test example for simple sequence classification.\"\"\"\n",
        "\n",
        "    def __init__(self, guid, text_a, text_b=None, label=None):\n",
        "        \"\"\"Constructs a InputExample.\n",
        "        Args:\n",
        "            guid: Unique id for the example.\n",
        "            text_a: string. The untokenized text of the first sequence. For single\n",
        "            sequence tasks, only this sequence must be specified.\n",
        "            text_b: (Optional) string. The untokenized text of the second sequence.\n",
        "            Only must be specified for sequence pair tasks.\n",
        "            label: (Optional) string. The label of the example. This should be\n",
        "            specified for train and dev examples, but not for test examples.\n",
        "        \"\"\"\n",
        "        self.guid = guid\n",
        "        self.text_a = text_a\n",
        "        self.text_b = text_b\n",
        "        self.label = label\n",
        "\n",
        "\n",
        "class InputFeatures(object):\n",
        "    \"\"\"A single set of features of data.\"\"\"\n",
        "\n",
        "    def __init__(self, input_ids, input_mask, segment_ids, label_id):\n",
        "        self.input_ids = input_ids\n",
        "        self.input_mask = input_mask\n",
        "        self.segment_ids = segment_ids\n",
        "        self.label_id = label_id\n",
        "\n",
        "\n",
        "class DataProcessor(object):\n",
        "    \"\"\"Base class for data converters for sequence classification data sets.\"\"\"\n",
        "\n",
        "    def get_train_examples(self, data_dir):\n",
        "        \"\"\"Gets a collection of `InputExample`s for the train set.\"\"\"\n",
        "        raise NotImplementedError()\n",
        "\n",
        "    def get_dev_examples(self, data_dir):\n",
        "        \"\"\"Gets a collection of `InputExample`s for the dev set.\"\"\"\n",
        "        raise NotImplementedError()\n",
        "\n",
        "    def get_labels(self):\n",
        "        \"\"\"Gets the list of labels for this data set.\"\"\"\n",
        "        raise NotImplementedError()\n",
        "\n",
        "    @classmethod\n",
        "    def _read_tsv(cls, input_file, quotechar=None):\n",
        "        \"\"\"Reads a tab separated value file.\"\"\"\n",
        "        df = pd.read_csv(input_file, sep=\"\\t\", header=None)\n",
        "        return df.values.tolist()"
      ],
      "execution_count": 0,
      "outputs": []
    },
    {
      "cell_type": "code",
      "metadata": {
        "id": "LetuH1xcwwNn",
        "colab_type": "code",
        "colab": {}
      },
      "source": [
        "class ClassificationProcessor(DataProcessor):\n",
        "    \"\"\"Processor for binary classification dataset.\"\"\"\n",
        "\n",
        "    def __init__(self, task_labels):\n",
        "      self.labels = task_labels\n",
        "\n",
        "    def get_train_examples(self, data_dir):\n",
        "        \"\"\"See base class.\"\"\"\n",
        "        lines = self._read_tsv(os.path.join(data_dir, \"train.tsv\"))\n",
        "        examples = self._create_examples(lines, \"train\")\n",
        "        return examples\n",
        "\n",
        "    def get_dev_examples(self, data_dir):\n",
        "        \"\"\"See base class.\"\"\"\n",
        "        lines = self._read_tsv(os.path.join(data_dir, \"dev.tsv\"))\n",
        "        examples = self._create_examples(lines, \"dev\")\n",
        "        return examples\n",
        "\n",
        "    def get_labels(self):\n",
        "        \"\"\"See base class.\"\"\"\n",
        "        return self.labels\n",
        "\n",
        "    def _create_examples(self, lines, set_type):\n",
        "        \"\"\"Creates examples for the training and dev sets.\"\"\"\n",
        "        examples = []\n",
        "        for (i, line) in enumerate(lines):\n",
        "            guid = \"%s-%s\" % (set_type, i)\n",
        "            text_a = line[3]\n",
        "            label = line[1]\n",
        "            examples.append(\n",
        "                InputExample(guid=guid, text_a=text_a, text_b=None, label=label))\n",
        "        return examples"
      ],
      "execution_count": 0,
      "outputs": []
    },
    {
      "cell_type": "code",
      "metadata": {
        "id": "i4AmcUCC0ff0",
        "colab_type": "code",
        "colab": {}
      },
      "source": [
        "MAX_SEQ_LENGTH = 128\n",
        "TRAIN_BATCH_SIZE = 24\n",
        "EVAL_BATCH_SIZE = 8\n",
        "LEARNING_RATE = 2e-5\n",
        "NUM_TRAIN_EPOCHS = 1\n",
        "RANDOM_SEED = 42\n",
        "GRADIENT_ACCUMULATION_STEPS = 1\n",
        "WARMUP_PROPORTION = 0.1\n",
        "OUTPUT_MODE = 'classification'"
      ],
      "execution_count": 0,
      "outputs": []
    },
    {
      "cell_type": "code",
      "metadata": {
        "id": "q0WCoZS03WOl",
        "colab_type": "code",
        "colab": {}
      },
      "source": [
        "import logging\n",
        "logger = logging.getLogger(__name__)"
      ],
      "execution_count": 0,
      "outputs": []
    },
    {
      "cell_type": "code",
      "metadata": {
        "id": "tH0yJQ-v1J1j",
        "colab_type": "code",
        "colab": {}
      },
      "source": [
        "def convert_examples_to_features(examples, label_list, max_seq_length,\n",
        "                                 tokenizer, output_mode,\n",
        "                                 cls_token_at_end=False,\n",
        "                                 cls_token='[CLS]',\n",
        "                                 cls_token_segment_id=1,\n",
        "                                 sep_token='[SEP]',\n",
        "                                 sep_token_extra=False,\n",
        "                                 pad_on_left=False,\n",
        "                                 pad_token=0,\n",
        "                                 pad_token_segment_id=0,\n",
        "                                 sequence_a_segment_id=0, \n",
        "                                 sequence_b_segment_id=1,\n",
        "                                 mask_padding_with_zero=True):\n",
        "    \"\"\" Loads a data file into a list of `InputBatch`s\n",
        "        `cls_token_at_end` define the location of the CLS token:\n",
        "            - False (Default, BERT/XLM pattern): [CLS] + A + [SEP] + B + [SEP]\n",
        "            - True (XLNet/GPT pattern): A + [SEP] + B + [SEP] + [CLS]\n",
        "        `cls_token_segment_id` define the segment id associated to the CLS token (0 for BERT, 2 for XLNet)\n",
        "    \"\"\"\n",
        "\n",
        "    label_map = {label : i for i, label in enumerate(label_list)}\n",
        "\n",
        "    features = []\n",
        "    for (ex_index, example) in enumerate(examples):\n",
        "        if ex_index % 10000 == 0:\n",
        "            logger.info(\"Writing example %d of %d\" % (ex_index, len(examples)))\n",
        "\n",
        "        tokens_a = tokenizer.tokenize(example.text_a)\n",
        "\n",
        "        tokens_b = None\n",
        "        if example.text_b:\n",
        "            tokens_b = tokenizer.tokenize(example.text_b)\n",
        "            # Modifies `tokens_a` and `tokens_b` in place so that the total\n",
        "            # length is less than the specified length.\n",
        "            # Account for [CLS], [SEP], [SEP] with \"- 3\". \" -4\" for RoBERTa.\n",
        "            special_tokens_count = 4 if sep_token_extra else 3\n",
        "            _truncate_seq_pair(tokens_a, tokens_b, max_seq_length - special_tokens_count)\n",
        "        else:\n",
        "            # Account for [CLS] and [SEP] with \"- 2\" and with \"- 3\" for RoBERTa.\n",
        "            special_tokens_count = 3 if sep_token_extra else 2\n",
        "            if len(tokens_a) > max_seq_length - special_tokens_count:\n",
        "                tokens_a = tokens_a[:(max_seq_length - special_tokens_count)]\n",
        "\n",
        "        # The convention in BERT is:\n",
        "        # (a) For sequence pairs:\n",
        "        #  tokens:   [CLS] is this jack ##son ##ville ? [SEP] no it is not . [SEP]\n",
        "        #  type_ids:   0   0  0    0    0     0       0   0   1  1  1  1   1   1\n",
        "        # (b) For single sequences:\n",
        "        #  tokens:   [CLS] the dog is hairy . [SEP]\n",
        "        #  type_ids:   0   0   0   0  0     0   0\n",
        "        #\n",
        "        # Where \"type_ids\" are used to indicate whether this is the first\n",
        "        # sequence or the second sequence. The embedding vectors for `type=0` and\n",
        "        # `type=1` were learned during pre-training and are added to the wordpiece\n",
        "        # embedding vector (and position vector). This is not *strictly* necessary\n",
        "        # since the [SEP] token unambiguously separates the sequences, but it makes\n",
        "        # it easier for the model to learn the concept of sequences.\n",
        "        #\n",
        "        # For classification tasks, the first vector (corresponding to [CLS]) is\n",
        "        # used as as the \"sentence vector\". Note that this only makes sense because\n",
        "        # the entire model is fine-tuned.\n",
        "        tokens = tokens_a + [sep_token]\n",
        "        if sep_token_extra:\n",
        "            # roberta uses an extra separator b/w pairs of sentences\n",
        "            tokens += [sep_token]\n",
        "        segment_ids = [sequence_a_segment_id] * len(tokens)\n",
        "\n",
        "        if tokens_b:\n",
        "            tokens += tokens_b + [sep_token]\n",
        "            segment_ids += [sequence_b_segment_id] * (len(tokens_b) + 1)\n",
        "\n",
        "        if cls_token_at_end:\n",
        "            tokens = tokens + [cls_token]\n",
        "            segment_ids = segment_ids + [cls_token_segment_id]\n",
        "        else:\n",
        "            tokens = [cls_token] + tokens\n",
        "            segment_ids = [cls_token_segment_id] + segment_ids\n",
        "\n",
        "        input_ids = tokenizer.convert_tokens_to_ids(tokens)\n",
        "\n",
        "        # The mask has 1 for real tokens and 0 for padding tokens. Only real\n",
        "        # tokens are attended to.\n",
        "        input_mask = [1 if mask_padding_with_zero else 0] * len(input_ids)\n",
        "\n",
        "        # Zero-pad up to the sequence length.\n",
        "        padding_length = max_seq_length - len(input_ids)\n",
        "        if pad_on_left:\n",
        "            input_ids = ([pad_token] * padding_length) + input_ids\n",
        "            input_mask = ([0 if mask_padding_with_zero else 1] * padding_length) + input_mask\n",
        "            segment_ids = ([pad_token_segment_id] * padding_length) + segment_ids\n",
        "        else:\n",
        "            input_ids = input_ids + ([pad_token] * padding_length)\n",
        "            input_mask = input_mask + ([0 if mask_padding_with_zero else 1] * padding_length)\n",
        "            segment_ids = segment_ids + ([pad_token_segment_id] * padding_length)\n",
        "\n",
        "        assert len(input_ids) == max_seq_length\n",
        "        assert len(input_mask) == max_seq_length\n",
        "        assert len(segment_ids) == max_seq_length\n",
        "\n",
        "        if output_mode == \"classification\":\n",
        "            label_id = label_map[example.label]\n",
        "        elif output_mode == \"regression\":\n",
        "            label_id = float(example.label)\n",
        "        else:\n",
        "            raise KeyError(output_mode)\n",
        "\n",
        "        if ex_index < 5:\n",
        "            logger.info(\"*** Example ***\")\n",
        "            logger.info(\"guid: %s\" % (example.guid))\n",
        "            logger.info(\"tokens: %s\" % \" \".join(\n",
        "                    [str(x) for x in tokens]))\n",
        "            logger.info(\"input_ids: %s\" % \" \".join([str(x) for x in input_ids]))\n",
        "            logger.info(\"input_mask: %s\" % \" \".join([str(x) for x in input_mask]))\n",
        "            logger.info(\"segment_ids: %s\" % \" \".join([str(x) for x in segment_ids]))\n",
        "            logger.info(\"label: %s (id = %d)\" % (example.label, label_id))\n",
        "\n",
        "        features.append(\n",
        "                InputFeatures(input_ids=input_ids,\n",
        "                              input_mask=input_mask,\n",
        "                              segment_ids=segment_ids,\n",
        "                              label_id=label_id))\n",
        "    return features\n",
        "\n",
        "\n",
        "def _truncate_seq_pair(tokens_a, tokens_b, max_length):\n",
        "    \"\"\"Truncates a sequence pair in place to the maximum length.\"\"\"\n",
        "\n",
        "    # This is a simple heuristic which will always truncate the longer sequence\n",
        "    # one token at a time. This makes more sense than truncating an equal percent\n",
        "    # of tokens from each, since if one sequence is very short then each token\n",
        "    # that's truncated likely contains more information than a longer sequence.\n",
        "    while True:\n",
        "        total_length = len(tokens_a) + len(tokens_b)\n",
        "        if total_length <= max_length:\n",
        "            break\n",
        "        if len(tokens_a) > len(tokens_b):\n",
        "            tokens_a.pop()\n",
        "        else:\n",
        "            tokens_b.pop()"
      ],
      "execution_count": 0,
      "outputs": []
    },
    {
      "cell_type": "code",
      "metadata": {
        "id": "6NdiZdQo1iYU",
        "colab_type": "code",
        "colab": {}
      },
      "source": [
        "def load_and_cache_examples(data_dir, task, tokenizer, evaluate=False):\n",
        "    processor = ClassificationProcessor(TASK_LABEL_IDS[task])\n",
        "    output_mode = OUTPUT_MODE\n",
        "    # Load data features from cache or dataset file\n",
        "    cached_features_file = os.path.join(data_dir, 'cached_{}_{}_{}_{}'.format(\n",
        "        'dev' if evaluate else 'train',\n",
        "        BERT_MODEL_TYPE,\n",
        "        str(MAX_SEQ_LENGTH),\n",
        "        str(task)))\n",
        "    if os.path.exists(cached_features_file):\n",
        "        logger.info(f\"Loading features from cached file {cached_features_file}\")\n",
        "        features = torch.load(cached_features_file)\n",
        "    else:\n",
        "        logger.info(f\"Creating features from dataset file at {data_dir}\", )\n",
        "        examples = processor.get_dev_examples(data_dir) if evaluate else processor.get_train_examples(data_dir)\n",
        "        label_list = processor.get_labels()\n",
        "        features = convert_examples_to_features(examples, label_list, MAX_SEQ_LENGTH, tokenizer, OUTPUT_MODE,\n",
        "            cls_token=tokenizer.cls_token,\n",
        "            sep_token=tokenizer.sep_token,\n",
        "            pad_token=tokenizer.convert_tokens_to_ids([tokenizer.pad_token])[0]\n",
        "        )\n",
        "        logger.info(\"Saving features into cached file %s\", cached_features_file)\n",
        "        torch.save(features, cached_features_file)\n",
        "        \n",
        "    # Convert to Tensors and build dataset\n",
        "    all_input_ids = torch.tensor([f.input_ids for f in features], dtype=torch.long)\n",
        "    all_input_mask = torch.tensor([f.input_mask for f in features], dtype=torch.long)\n",
        "    all_segment_ids = torch.tensor([f.segment_ids for f in features], dtype=torch.long)\n",
        "    if output_mode == \"classification\":\n",
        "        all_label_ids = torch.tensor([f.label_id for f in features], dtype=torch.long)\n",
        "    elif output_mode == \"regression\":\n",
        "        all_label_ids = torch.tensor([f.label_id for f in features], dtype=torch.float)\n",
        "\n",
        "    dataset = TensorDataset(all_input_ids, all_input_mask, all_segment_ids, all_label_ids)\n",
        "    return dataset"
      ],
      "execution_count": 0,
      "outputs": []
    },
    {
      "cell_type": "code",
      "metadata": {
        "id": "hY5l_2ch-zYq",
        "colab_type": "code",
        "colab": {}
      },
      "source": [
        "import random\n",
        "import numpy as np\n",
        "from sklearn.metrics import accuracy_score, f1_score, classification_report\n",
        "import json"
      ],
      "execution_count": 0,
      "outputs": []
    },
    {
      "cell_type": "code",
      "metadata": {
        "id": "AN0czkH57RRs",
        "colab_type": "code",
        "colab": {}
      },
      "source": [
        "def evaluate(eval_dataset, model, task_labels=None):\n",
        "    eval_sampler = SequentialSampler(eval_dataset)\n",
        "    eval_dataloader = DataLoader(eval_dataset, sampler=eval_sampler, batch_size=TRAIN_BATCH_SIZE)\n",
        "\n",
        "    # Eval!\n",
        "    logger.info(\"***** Running evaluation {} *****\")\n",
        "    logger.info(\"  Num examples = %d\", len(eval_dataset))\n",
        "    logger.info(\"  Batch size = %d\", TRAIN_BATCH_SIZE)\n",
        "    eval_loss = 0.0\n",
        "    nb_eval_steps = 0\n",
        "    preds = None\n",
        "    out_label_ids = None\n",
        "    device = \"cuda:0\"\n",
        "    for batch in tqdm(eval_dataloader, desc=\"Evaluating\", disable=True):\n",
        "        model.eval()\n",
        "        batch = tuple(t.to(device) for t in batch)\n",
        "\n",
        "        with torch.no_grad():\n",
        "            inputs = {'input_ids':      batch[0],\n",
        "                      'attention_mask': batch[1],\n",
        "                      'token_type_ids': batch[2],  # XLM and RoBERTa don't use segment_ids\n",
        "                      'labels':         batch[3]}\n",
        "            outputs = model(**inputs)\n",
        "            tmp_eval_loss, logits = outputs[:2]\n",
        "\n",
        "            eval_loss += tmp_eval_loss.mean().item()\n",
        "        nb_eval_steps += 1\n",
        "        if preds is None:\n",
        "            preds = logits.detach().cpu().numpy()\n",
        "            out_label_ids = inputs['labels'].detach().cpu().numpy()\n",
        "        else:\n",
        "            preds = np.append(preds, logits.detach().cpu().numpy(), axis=0)\n",
        "            out_label_ids = np.append(out_label_ids, inputs['labels'].detach().cpu().numpy(), axis=0)\n",
        "\n",
        "    eval_loss = eval_loss / nb_eval_steps\n",
        "    preds = np.argmax(preds, axis=1)\n",
        "    clf_report = classification_report(\n",
        "        y_true=out_label_ids, y_pred=preds, output_dict=True,\n",
        "        target_names=task_labels\n",
        "    )\n",
        "    results = {\"eval_loss\": eval_loss}\n",
        "    for lbl, score_dict in clf_report.items():\n",
        "      if isinstance(score_dict, float):\n",
        "        results[lbl] = score_dict\n",
        "        continue\n",
        "      for score, v in score_dict.items():\n",
        "        results[f\"{lbl}_{score}\"] = v \n",
        "    return results\n",
        "\n",
        "def set_seed(seed):\n",
        "    random.seed(seed)\n",
        "    np.random.seed(seed)\n",
        "    torch.manual_seed(seed)\n",
        "    torch.cuda.manual_seed_all(seed)\n",
        "\n",
        "\n",
        "def train(train_dataset, model, tokenizer, eval_dataset=None, data_dir=\"./\", task_labels=None):\n",
        "    \"\"\" Train the model \"\"\"\n",
        "    save_steps = 5\n",
        "    tb_writer = SummaryWriter(data_dir)\n",
        "\n",
        "    train_batch_size = TRAIN_BATCH_SIZE\n",
        "    train_sampler = RandomSampler(train_dataset)\n",
        "    train_dataloader = DataLoader(train_dataset, sampler=train_sampler, batch_size=train_batch_size)\n",
        "    max_steps = 10\n",
        "    if max_steps > 0:\n",
        "        t_total = max_steps\n",
        "        num_train_epochs = max_steps // (len(train_dataloader) // GRADIENT_ACCUMULATION_STEPS) + 1\n",
        "    else:\n",
        "        t_total = len(train_dataloader) // GRADIENT_ACCUMULATION_STEPS * NUM_TRAIN_EPOCHS\n",
        "\n",
        "    # Prepare optimizer and schedule (linear warmup and decay)\n",
        "    no_decay = ['bias', 'LayerNorm.weight']\n",
        "    optimizer_grouped_parameters = [\n",
        "        {'params': [p for n, p in model.named_parameters() if not any(nd in n for nd in no_decay)], 'weight_decay': 0.0},\n",
        "        {'params': [p for n, p in model.named_parameters() if any(nd in n for nd in no_decay)], 'weight_decay': 0.0}\n",
        "        ]\n",
        "    optimizer = AdamW(optimizer_grouped_parameters, lr=5e-5, eps=1e-8)\n",
        "    scheduler = WarmupLinearSchedule(optimizer, warmup_steps=0, t_total=t_total)\n",
        "\n",
        "    # Train!\n",
        "    logger.info(\"***** Running training *****\")\n",
        "    logger.info(\"  Num examples = %d\", len(train_dataset))\n",
        "    logger.info(\"  Num Epochs = %d\", NUM_TRAIN_EPOCHS)\n",
        "    logger.info(\"  Total train batch size (w. parallel, distributed & accumulation) = %d\",\n",
        "                   train_batch_size * GRADIENT_ACCUMULATION_STEPS)\n",
        "    logger.info(\"  Gradient Accumulation steps = %d\", GRADIENT_ACCUMULATION_STEPS)\n",
        "    logger.info(\"  Total optimization steps = %d\", t_total)\n",
        "\n",
        "    device = 'cuda:0'\n",
        "\n",
        "    global_step = 0\n",
        "    tr_loss, logging_loss = 0.0, 0.0\n",
        "    model.zero_grad()\n",
        "    train_iterator = trange(int(NUM_TRAIN_EPOCHS), desc=\"Epoch\", disable=True)\n",
        "    set_seed(1337)  # Added here for reproductibility (even between python 2 and 3)\n",
        "    for _ in train_iterator:\n",
        "        epoch_iterator = tqdm(train_dataloader, desc=\"Iteration\", disable=True)\n",
        "        for step, batch in enumerate(epoch_iterator):\n",
        "            model.train()\n",
        "            batch = tuple(t.to(device) for t in batch)\n",
        "            inputs = {'input_ids':      batch[0],\n",
        "                      'attention_mask': batch[1],\n",
        "                      'token_type_ids': batch[2],  # XLM don't use segment_ids\n",
        "                      'labels':         batch[3]}\n",
        "            outputs = model(**inputs)\n",
        "            loss = outputs[0]  # model outputs are always tuple in pytorch-transformers (see doc)\n",
        "\n",
        "            if GRADIENT_ACCUMULATION_STEPS > 1:\n",
        "                loss = loss / GRADIENT_ACCUMULATION_STEPS\n",
        "            \n",
        "            loss.backward()\n",
        "            torch.nn.utils.clip_grad_norm_(model.parameters(), 1)\n",
        "\n",
        "            tr_loss += loss.item()\n",
        "            if (step + 1) % GRADIENT_ACCUMULATION_STEPS == 0:\n",
        "                scheduler.step()  # Update learning rate schedule\n",
        "                optimizer.step()\n",
        "                model.zero_grad()\n",
        "                global_step += 1\n",
        "\n",
        "                # Log metrics\n",
        "                results = evaluate(train_dataset, model, task_labels=task_labels)\n",
        "                print(f\"[train]\\tglobal_step={global_step}, results={results}\")\n",
        "                results[\"global_step\"] = global_step\n",
        "                results[\"tr_loss\"] = tr_loss\n",
        "                with open(os.path.join(data_dir, \"train_results.json\"), \"a\") as results_fp:\n",
        "                  print(json.dumps(results), file=results_fp)\n",
        "                for key, value in results.items():\n",
        "                    tb_writer.add_scalar('train_{}'.format(key), value, global_step)\n",
        "                \n",
        "                results = evaluate(eval_dataset, model, task_labels=task_labels)\n",
        "                print(f\"[dev]\\tglobal_step={global_step}, results={results}\")\n",
        "                results[\"global_step\"] = global_step\n",
        "                results[\"tr_loss\"] = tr_loss\n",
        "                with open(os.path.join(data_dir, \"dev_results.json\"), \"a\") as results_fp:\n",
        "                  print(json.dumps(results), file=results_fp)\n",
        "                for key, value in results.items():\n",
        "                    tb_writer.add_scalar('eval_{}'.format(key), value, global_step)\n",
        "                    \n",
        "                tb_writer.add_scalar('lr', scheduler.get_lr()[0], global_step)\n",
        "                tb_writer.add_scalar('loss', (tr_loss - logging_loss)/3, global_step)\n",
        "                logging_loss = tr_loss\n",
        "\n",
        "                if save_steps > 0 and global_step % 5 == 0:\n",
        "                    # Save model checkpoint\n",
        "                    output_dir = os.path.join(data_dir, 'checkpoint-{}'.format(global_step))\n",
        "                    if not os.path.exists(output_dir):\n",
        "                        os.makedirs(output_dir)\n",
        "                    model_to_save = model.module if hasattr(model, 'module') else model  # Take care of distributed/parallel training\n",
        "                    model_to_save.save_pretrained(output_dir)\n",
        "                    logger.info(\"Saving model checkpoint to %s\", output_dir)\n",
        "            if max_steps > 0 and global_step > max_steps:\n",
        "                epoch_iterator.close()\n",
        "                break\n",
        "        if max_steps > 0 and global_step > max_steps:\n",
        "            train_iterator.close()\n",
        "            break\n",
        "\n",
        "    tb_writer.close()\n",
        "\n",
        "    return global_step, tr_loss / global_step\n"
      ],
      "execution_count": 0,
      "outputs": []
    },
    {
      "cell_type": "code",
      "metadata": {
        "id": "HpKhSJpK5S_p",
        "colab_type": "code",
        "colab": {}
      },
      "source": [
        "torch.cuda.empty_cache()\n",
        "\n",
        "lang, task = \"EN\", \"task_2\"\n",
        "task_labels = TASK_LABEL_IDS[task]\n",
        "processor = ClassificationProcessor(task_labels)\n",
        "DATA_DIR = os.path.join(\"./\", lang, task)"
      ],
      "execution_count": 0,
      "outputs": []
    },
    {
      "cell_type": "code",
      "metadata": {
        "id": "4LACjNjYTLE3",
        "colab_type": "code",
        "colab": {
          "base_uri": "https://localhost:8080/",
          "height": 51
        },
        "outputId": "15a560f4-af24-4fb4-c07e-d00cc1b86ea3"
      },
      "source": [
        "! ps ax | grep tensorboard"
      ],
      "execution_count": 26,
      "outputs": [
        {
          "output_type": "stream",
          "text": [
            "   5763 ?        S      0:00 /bin/bash -c  ps ax | grep tensorboard\n",
            "   5765 ?        S      0:00 grep tensorboard\n"
          ],
          "name": "stdout"
        }
      ]
    },
    {
      "cell_type": "code",
      "metadata": {
        "id": "5fzYfUrpRFqy",
        "colab_type": "code",
        "outputId": "a44d19ed-48e0-4abb-9362-088c3896c756",
        "colab": {
          "resources": {
            "http://localhost:6006/": {
              "data": "CjwhRE9DVFlQRSBodG1sPgo8aHRtbCBsYW5nPWVuPgogIDxtZXRhIGNoYXJzZXQ9dXRmLTg+CiAgPG1ldGEgbmFtZT12aWV3cG9ydCBjb250ZW50PSJpbml0aWFsLXNjYWxlPTEsIG1pbmltdW0tc2NhbGU9MSwgd2lkdGg9ZGV2aWNlLXdpZHRoIj4KICA8dGl0bGU+RXJyb3IgNTAwIChJbnRlcm5hbCBTZXJ2ZXIgRXJyb3IpISExPC90aXRsZT4KICA8c3R5bGU+CiAgICAqe21hcmdpbjowO3BhZGRpbmc6MH1odG1sLGNvZGV7Zm9udDoxNXB4LzIycHggYXJpYWwsc2Fucy1zZXJpZn1odG1se2JhY2tncm91bmQ6I2ZmZjtjb2xvcjojMjIyO3BhZGRpbmc6MTVweH1ib2R5e21hcmdpbjo3JSBhdXRvIDA7bWF4LXdpZHRoOjM5MHB4O21pbi1oZWlnaHQ6MTgwcHg7cGFkZGluZzozMHB4IDAgMTVweH0qID4gYm9keXtiYWNrZ3JvdW5kOnVybCgvL3d3dy5nb29nbGUuY29tL2ltYWdlcy9lcnJvcnMvcm9ib3QucG5nKSAxMDAlIDVweCBuby1yZXBlYXQ7cGFkZGluZy1yaWdodDoyMDVweH1we21hcmdpbjoxMXB4IDAgMjJweDtvdmVyZmxvdzpoaWRkZW59aW5ze2NvbG9yOiM3Nzc7dGV4dC1kZWNvcmF0aW9uOm5vbmV9YSBpbWd7Ym9yZGVyOjB9QG1lZGlhIHNjcmVlbiBhbmQgKG1heC13aWR0aDo3NzJweCl7Ym9keXtiYWNrZ3JvdW5kOm5vbmU7bWFyZ2luLXRvcDowO21heC13aWR0aDpub25lO3BhZGRpbmctcmlnaHQ6MH19I2xvZ297YmFja2dyb3VuZDp1cmwoLy93d3cuZ29vZ2xlLmNvbS9pbWFnZXMvbG9nb3MvZXJyb3JwYWdlL2Vycm9yX2xvZ28tMTUweDU0LnBuZykgbm8tcmVwZWF0O21hcmdpbi1sZWZ0Oi01cHh9QG1lZGlhIG9ubHkgc2NyZWVuIGFuZCAobWluLXJlc29sdXRpb246MTkyZHBpKXsjbG9nb3tiYWNrZ3JvdW5kOnVybCgvL3d3dy5nb29nbGUuY29tL2ltYWdlcy9sb2dvcy9lcnJvcnBhZ2UvZXJyb3JfbG9nby0xNTB4NTQtMngucG5nKSBuby1yZXBlYXQgMCUgMCUvMTAwJSAxMDAlOy1tb3otYm9yZGVyLWltYWdlOnVybCgvL3d3dy5nb29nbGUuY29tL2ltYWdlcy9sb2dvcy9lcnJvcnBhZ2UvZXJyb3JfbG9nby0xNTB4NTQtMngucG5nKSAwfX1AbWVkaWEgb25seSBzY3JlZW4gYW5kICgtd2Via2l0LW1pbi1kZXZpY2UtcGl4ZWwtcmF0aW86Mil7I2xvZ297YmFja2dyb3VuZDp1cmwoLy93d3cuZ29vZ2xlLmNvbS9pbWFnZXMvbG9nb3MvZXJyb3JwYWdlL2Vycm9yX2xvZ28tMTUweDU0LTJ4LnBuZykgbm8tcmVwZWF0Oy13ZWJraXQtYmFja2dyb3VuZC1zaXplOjEwMCUgMTAwJX19I2xvZ297ZGlzcGxheTppbmxpbmUtYmxvY2s7aGVpZ2h0OjU0cHg7d2lkdGg6MTUwcHh9CiAgPC9zdHlsZT4KICA8YSBocmVmPS8vd3d3Lmdvb2dsZS5jb20vPjxzcGFuIGlkPWxvZ28gYXJpYS1sYWJlbD1Hb29nbGU+PC9zcGFuPjwvYT4KICA8cD48Yj41MDAuPC9iPiA8aW5zPlRoYXTigJlzIGFuIGVycm9yLjwvaW5zPgogIDxwPiAgPGlucz5UaGF04oCZcyBhbGwgd2Uga25vdy48L2lucz4K",
              "ok": false,
              "headers": [
                [
                  "content-length",
                  "1461"
                ],
                [
                  "content-type",
                  "text/html; charset=utf-8"
                ]
              ],
              "status": 500,
              "status_text": ""
            }
          },
          "base_uri": "https://localhost:8080/",
          "height": 34
        }
      },
      "source": [
        "%tensorboard --logdir ./EN"
      ],
      "execution_count": 27,
      "outputs": [
        {
          "output_type": "display_data",
          "data": {
            "text/plain": [
              "Reusing TensorBoard on port 6006 (pid 902), started 4:07:37 ago. (Use '!kill 902' to kill it.)"
            ]
          },
          "metadata": {
            "tags": []
          }
        },
        {
          "output_type": "display_data",
          "data": {
            "text/html": [
              "\n",
              "    <div id=\"root\"></div>\n",
              "    <script>\n",
              "      (function() {\n",
              "        window.TENSORBOARD_ENV = window.TENSORBOARD_ENV || {};\n",
              "        window.TENSORBOARD_ENV[\"IN_COLAB\"] = true;\n",
              "        document.querySelector(\"base\").href = \"https://localhost:6006\";\n",
              "        function fixUpTensorboard(root) {\n",
              "          const tftb = root.querySelector(\"tf-tensorboard\");\n",
              "          // Disable the fragment manipulation behavior in Colab. Not\n",
              "          // only is the behavior not useful (as the iframe's location\n",
              "          // is not visible to the user), it causes TensorBoard's usage\n",
              "          // of `window.replace` to navigate away from the page and to\n",
              "          // the `localhost:<port>` URL specified by the base URI, which\n",
              "          // in turn causes the frame to (likely) crash.\n",
              "          tftb.removeAttribute(\"use-hash\");\n",
              "        }\n",
              "        function executeAllScripts(root) {\n",
              "          // When `script` elements are inserted into the DOM by\n",
              "          // assigning to an element's `innerHTML`, the scripts are not\n",
              "          // executed. Thus, we manually re-insert these scripts so that\n",
              "          // TensorBoard can initialize itself.\n",
              "          for (const script of root.querySelectorAll(\"script\")) {\n",
              "            const newScript = document.createElement(\"script\");\n",
              "            newScript.type = script.type;\n",
              "            newScript.textContent = script.textContent;\n",
              "            root.appendChild(newScript);\n",
              "            script.remove();\n",
              "          }\n",
              "        }\n",
              "        function setHeight(root, height) {\n",
              "          // We set the height dynamically after the TensorBoard UI has\n",
              "          // been initialized. This avoids an intermediate state in\n",
              "          // which the container plus the UI become taller than the\n",
              "          // final width and cause the Colab output frame to be\n",
              "          // permanently resized, eventually leading to an empty\n",
              "          // vertical gap below the TensorBoard UI. It's not clear\n",
              "          // exactly what causes this problematic intermediate state,\n",
              "          // but setting the height late seems to fix it.\n",
              "          root.style.height = `${height}px`;\n",
              "        }\n",
              "        const root = document.getElementById(\"root\");\n",
              "        fetch(\".\")\n",
              "          .then((x) => x.text())\n",
              "          .then((html) => void (root.innerHTML = html))\n",
              "          .then(() => fixUpTensorboard(root))\n",
              "          .then(() => executeAllScripts(root))\n",
              "          .then(() => setHeight(root, 800));\n",
              "      })();\n",
              "    </script>\n",
              "  "
            ],
            "text/plain": [
              "<IPython.core.display.HTML object>"
            ]
          },
          "metadata": {
            "tags": []
          }
        }
      ]
    },
    {
      "cell_type": "code",
      "metadata": {
        "id": "6O2iDwQh-FkB",
        "colab_type": "code",
        "colab": {
          "base_uri": "https://localhost:8080/",
          "height": 453
        },
        "outputId": "9f216817-d0d4-4c04-cfa2-047b8291105a"
      },
      "source": [
        "BERT_MODEL_TYPE='bert-base-cased'\n",
        "tokenizer = BertTokenizer.from_pretrained(BERT_MODEL_TYPE, do_lower_case=False)\n",
        "\n",
        "train_dataset = load_and_cache_examples(DATA_DIR, task, tokenizer, evaluate=False)\n",
        "eval_dataset = load_and_cache_examples(DATA_DIR, task, tokenizer, evaluate=True)\n",
        "\n",
        "model = BertForSequenceClassification.from_pretrained(BERT_MODEL_TYPE, num_labels=len(task_labels))\n",
        "model.to('cuda:0')\n",
        "\n",
        "global_step, tr_loss = train(train_dataset, model, tokenizer, eval_dataset, data_dir=DATA_DIR, task_labels=task_labels)\n",
        "logger.info(\" global_step = %s, average loss = %s\", global_step, tr_loss)"
      ],
      "execution_count": 28,
      "outputs": [
        {
          "output_type": "stream",
          "text": [
            "/usr/local/lib/python3.6/dist-packages/sklearn/metrics/classification.py:1437: UndefinedMetricWarning: Precision and F-score are ill-defined and being set to 0.0 in labels with no predicted samples.\n",
            "  'precision', 'predicted', average, warn_for)\n"
          ],
          "name": "stderr"
        },
        {
          "output_type": "stream",
          "text": [
            "[train]\tglobal_step=1, results={'eval_loss': 1.0980593009998925, 'HATE_precision': 0.0, 'HATE_recall': 0.0, 'HATE_f1-score': 0.0, 'HATE_support': 1143, 'OFFN_precision': 0.0, 'OFFN_recall': 0.0, 'OFFN_f1-score': 0.0, 'OFFN_support': 451, 'PRFN_precision': 0.2950022114108801, 'PRFN_recall': 1.0, 'PRFN_f1-score': 0.45560109289617484, 'PRFN_support': 667, 'accuracy': 0.2950022114108801, 'macro avg_precision': 0.09833407047029337, 'macro avg_recall': 0.3333333333333333, 'macro avg_f1-score': 0.15186703096539161, 'macro avg_support': 2261, 'weighted avg_precision': 0.08702630473730961, 'weighted avg_recall': 0.2950022114108801, 'weighted avg_f1-score': 0.1344033299255854, 'weighted avg_support': 2261}\n",
            "[dev]\tglobal_step=1, results={'eval_loss': 1.2303570967454176, 'HATE_precision': 0.0, 'HATE_recall': 0.0, 'HATE_f1-score': 0.0, 'HATE_support': 141, 'OFFN_precision': 0.0, 'OFFN_recall': 0.0, 'OFFN_f1-score': 0.0, 'OFFN_support': 145, 'PRFN_precision': 0.052980132450331126, 'PRFN_recall': 1.0, 'PRFN_f1-score': 0.10062893081761005, 'PRFN_support': 16, 'accuracy': 0.052980132450331126, 'macro avg_precision': 0.017660044150110375, 'macro avg_recall': 0.3333333333333333, 'macro avg_f1-score': 0.03354297693920335, 'macro avg_support': 302, 'weighted avg_precision': 0.0028068944344546293, 'weighted avg_recall': 0.052980132450331126, 'weighted avg_f1-score': 0.0053313340830521885, 'weighted avg_support': 302}\n",
            "[train]\tglobal_step=2, results={'eval_loss': 1.0690178990364074, 'HATE_precision': 0.4817073170731707, 'HATE_recall': 0.3455818022747157, 'HATE_f1-score': 0.402445236882323, 'HATE_support': 1143, 'OFFN_precision': 0.0, 'OFFN_recall': 0.0, 'OFFN_f1-score': 0.0, 'OFFN_support': 451, 'PRFN_precision': 0.26162387231089523, 'PRFN_recall': 0.5652173913043478, 'PRFN_f1-score': 0.357685009487666, 'PRFN_support': 667, 'accuracy': 0.3414418398938523, 'macro avg_precision': 0.24777706312802197, 'macro avg_recall': 0.30359973119302114, 'macro avg_f1-score': 0.25337674878999633, 'macro avg_support': 2261, 'weighted avg_precision': 0.3206964114312257, 'weighted avg_recall': 0.3414418398938523, 'weighted avg_f1-score': 0.3089654166673014, 'weighted avg_support': 2261}\n",
            "[dev]\tglobal_step=2, results={'eval_loss': 1.2227743588961089, 'HATE_precision': 0.37777777777777777, 'HATE_recall': 0.12056737588652482, 'HATE_f1-score': 0.18279569892473116, 'HATE_support': 141, 'OFFN_precision': 0.0, 'OFFN_recall': 0.0, 'OFFN_f1-score': 0.0, 'OFFN_support': 145, 'PRFN_precision': 0.054474708171206226, 'PRFN_recall': 0.875, 'PRFN_f1-score': 0.10256410256410256, 'PRFN_support': 16, 'accuracy': 0.10264900662251655, 'macro avg_precision': 0.14408416198299467, 'macro avg_recall': 0.3318557919621749, 'macro avg_f1-score': 0.09511993382961124, 'macro avg_support': 302, 'weighted avg_precision': 0.179265768203331, 'weighted avg_recall': 0.10264900662251655, 'weighted avg_f1-score': 0.09077887148812164, 'weighted avg_support': 302}\n",
            "[train]\tglobal_step=3, results={'eval_loss': 1.0362867832183837, 'HATE_precision': 0.5084205735093309, 'HATE_recall': 0.9772528433945756, 'HATE_f1-score': 0.6688622754491017, 'HATE_support': 1143, 'OFFN_precision': 0.0, 'OFFN_recall': 0.0, 'OFFN_f1-score': 0.0, 'OFFN_support': 451, 'PRFN_precision': 0.5, 'PRFN_recall': 0.047976011994003, 'PRFN_f1-score': 0.08755129958960327, 'PRFN_support': 667, 'accuracy': 0.5081822202565237, 'macro avg_precision': 0.33614019116977695, 'macro avg_recall': 0.3417429517961929, 'macro avg_f1-score': 0.252137858346235, 'macro avg_support': 2261, 'weighted avg_precision': 0.4045222094299713, 'weighted avg_recall': 0.5081822202565237, 'weighted avg_f1-score': 0.3639567879984912, 'weighted avg_support': 2261}\n",
            "[dev]\tglobal_step=3, results={'eval_loss': 1.193660754423875, 'HATE_precision': 0.46853146853146854, 'HATE_recall': 0.950354609929078, 'HATE_f1-score': 0.6276346604215457, 'HATE_support': 141, 'OFFN_precision': 0.0, 'OFFN_recall': 0.0, 'OFFN_f1-score': 0.0, 'OFFN_support': 145, 'PRFN_precision': 0.0625, 'PRFN_recall': 0.0625, 'PRFN_f1-score': 0.0625, 'PRFN_support': 16, 'accuracy': 0.4470198675496689, 'macro avg_precision': 0.1770104895104895, 'macro avg_recall': 0.33761820330969267, 'macro avg_f1-score': 0.2300448868071819, 'macro avg_support': 302, 'weighted avg_precision': 0.22206270550641413, 'weighted avg_recall': 0.4470198675496689, 'weighted avg_f1-score': 0.29634598383919847, 'weighted avg_support': 302}\n",
            "[train]\tglobal_step=4, results={'eval_loss': 1.0279173418095238, 'HATE_precision': 0.50917225950783, 'HATE_recall': 0.9956255468066492, 'HATE_f1-score': 0.6737714624037892, 'HATE_support': 1143, 'OFFN_precision': 0.0, 'OFFN_recall': 0.0, 'OFFN_f1-score': 0.0, 'OFFN_support': 451, 'PRFN_precision': 0.7307692307692307, 'PRFN_recall': 0.02848575712143928, 'PRFN_f1-score': 0.05483405483405483, 'PRFN_support': 667, 'accuracy': 0.5117204776647502, 'macro avg_precision': 0.41331383009235356, 'macro avg_recall': 0.3413704346426962, 'macro avg_f1-score': 0.24286850574594798, 'macro avg_support': 2261, 'weighted avg_precision': 0.4729796415482205, 'weighted avg_recall': 0.5117204776647502, 'weighted avg_f1-score': 0.35678686249528774, 'weighted avg_support': 2261}\n",
            "[dev]\tglobal_step=4, results={'eval_loss': 1.209453481894273, 'HATE_precision': 0.46308724832214765, 'HATE_recall': 0.9787234042553191, 'HATE_f1-score': 0.6287015945330297, 'HATE_support': 141, 'OFFN_precision': 0.0, 'OFFN_recall': 0.0, 'OFFN_f1-score': 0.0, 'OFFN_support': 145, 'PRFN_precision': 0.0, 'PRFN_recall': 0.0, 'PRFN_f1-score': 0.0, 'PRFN_support': 16, 'accuracy': 0.45695364238410596, 'macro avg_precision': 0.15436241610738255, 'macro avg_recall': 0.326241134751773, 'macro avg_f1-score': 0.20956719817767655, 'macro avg_support': 302, 'weighted avg_precision': 0.21620960931596958, 'weighted avg_recall': 0.45695364238410596, 'weighted avg_f1-score': 0.2935328636727059, 'weighted avg_support': 302}\n",
            "[train]\tglobal_step=5, results={'eval_loss': 1.0264610315624036, 'HATE_precision': 0.5085201793721973, 'HATE_recall': 0.9921259842519685, 'HATE_f1-score': 0.6723984583456862, 'HATE_support': 1143, 'OFFN_precision': 0.0, 'OFFN_recall': 0.0, 'OFFN_f1-score': 0.0, 'OFFN_support': 451, 'PRFN_precision': 0.6451612903225806, 'PRFN_recall': 0.029985007496251874, 'PRFN_f1-score': 0.05730659025787966, 'PRFN_support': 667, 'accuracy': 0.5103936311366651, 'macro avg_precision': 0.3845604898982593, 'macro avg_recall': 0.34070366391607343, 'macro avg_f1-score': 0.24323501620118862, 'macro avg_support': 2261, 'weighted avg_precision': 0.44739546469154484, 'weighted avg_recall': 0.5103936311366651, 'weighted avg_f1-score': 0.3568221731937749, 'weighted avg_support': 2261}\n",
            "[dev]\tglobal_step=5, results={'eval_loss': 1.226686771099384, 'HATE_precision': 0.4612794612794613, 'HATE_recall': 0.9716312056737588, 'HATE_f1-score': 0.6255707762557078, 'HATE_support': 141, 'OFFN_precision': 0.0, 'OFFN_recall': 0.0, 'OFFN_f1-score': 0.0, 'OFFN_support': 145, 'PRFN_precision': 0.0, 'PRFN_recall': 0.0, 'PRFN_f1-score': 0.0, 'PRFN_support': 16, 'accuracy': 0.45364238410596025, 'macro avg_precision': 0.1537598204264871, 'macro avg_recall': 0.3238770685579196, 'macro avg_f1-score': 0.20852359208523594, 'macro avg_support': 302, 'weighted avg_precision': 0.21536557629272862, 'weighted avg_recall': 0.45364238410596025, 'weighted avg_f1-score': 0.2920711240134265, 'weighted avg_support': 302}\n",
            "[train]\tglobal_step=6, results={'eval_loss': 1.0229978693159003, 'HATE_precision': 0.5082626172398392, 'HATE_recall': 0.9956255468066492, 'HATE_f1-score': 0.6729745712596097, 'HATE_support': 1143, 'OFFN_precision': 0.0, 'OFFN_recall': 0.0, 'OFFN_f1-score': 0.0, 'OFFN_support': 451, 'PRFN_precision': 0.7272727272727273, 'PRFN_recall': 0.0239880059970015, 'PRFN_f1-score': 0.04644412191582003, 'PRFN_support': 667, 'accuracy': 0.5103936311366651, 'macro avg_precision': 0.4118451148375222, 'macro avg_recall': 0.3398711842678836, 'macro avg_f1-score': 0.23980623105847657, 'macro avg_support': 2261, 'weighted avg_precision': 0.47148831516852957, 'weighted avg_recall': 0.5103936311366651, 'weighted avg_f1-score': 0.3539089625243635, 'weighted avg_support': 2261}\n",
            "[dev]\tglobal_step=6, results={'eval_loss': 1.227994272342095, 'HATE_precision': 0.4612794612794613, 'HATE_recall': 0.9716312056737588, 'HATE_f1-score': 0.6255707762557078, 'HATE_support': 141, 'OFFN_precision': 0.0, 'OFFN_recall': 0.0, 'OFFN_f1-score': 0.0, 'OFFN_support': 145, 'PRFN_precision': 0.0, 'PRFN_recall': 0.0, 'PRFN_f1-score': 0.0, 'PRFN_support': 16, 'accuracy': 0.45364238410596025, 'macro avg_precision': 0.1537598204264871, 'macro avg_recall': 0.3238770685579196, 'macro avg_f1-score': 0.20852359208523594, 'macro avg_support': 302, 'weighted avg_precision': 0.21536557629272862, 'weighted avg_recall': 0.45364238410596025, 'weighted avg_f1-score': 0.2920711240134265, 'weighted avg_support': 302}\n",
            "[train]\tglobal_step=7, results={'eval_loss': 1.0200311428622195, 'HATE_precision': 0.5075690115761353, 'HATE_recall': 0.9973753280839895, 'HATE_f1-score': 0.6727648273827087, 'HATE_support': 1143, 'OFFN_precision': 0.0, 'OFFN_recall': 0.0, 'OFFN_f1-score': 0.0, 'OFFN_support': 451, 'PRFN_precision': 0.8, 'PRFN_recall': 0.017991004497751123, 'PRFN_f1-score': 0.03519061583577712, 'PRFN_support': 667, 'accuracy': 0.5095090667846086, 'macro avg_precision': 0.43585633719204514, 'macro avg_recall': 0.33845544419391355, 'macro avg_f1-score': 0.23598514773949528, 'macro avg_support': 2261, 'weighted avg_precision': 0.49259238400332717, 'weighted avg_recall': 0.5095090667846086, 'weighted avg_f1-score': 0.35048312183144603, 'weighted avg_support': 2261}\n",
            "[dev]\tglobal_step=7, results={'eval_loss': 1.2247339257827172, 'HATE_precision': 0.46511627906976744, 'HATE_recall': 0.9929078014184397, 'HATE_f1-score': 0.6334841628959276, 'HATE_support': 141, 'OFFN_precision': 0.0, 'OFFN_recall': 0.0, 'OFFN_f1-score': 0.0, 'OFFN_support': 145, 'PRFN_precision': 0.0, 'PRFN_recall': 0.0, 'PRFN_f1-score': 0.0, 'PRFN_support': 16, 'accuracy': 0.46357615894039733, 'macro avg_precision': 0.15503875968992248, 'macro avg_recall': 0.3309692671394799, 'macro avg_f1-score': 0.21116138763197587, 'macro avg_support': 302, 'weighted avg_precision': 0.2171569382411828, 'weighted avg_recall': 0.46357615894039733, 'weighted avg_f1-score': 0.2957657846633304, 'weighted avg_support': 302}\n",
            "[train]\tglobal_step=8, results={'eval_loss': 1.0179254964778297, 'HATE_precision': 0.5075555555555555, 'HATE_recall': 0.9991251093613298, 'HATE_f1-score': 0.6731506041850869, 'HATE_support': 1143, 'OFFN_precision': 0.0, 'OFFN_recall': 0.0, 'OFFN_f1-score': 0.0, 'OFFN_support': 451, 'PRFN_precision': 0.9090909090909091, 'PRFN_recall': 0.014992503748125937, 'PRFN_f1-score': 0.029498525073746312, 'PRFN_support': 667, 'accuracy': 0.5095090667846086, 'macro avg_precision': 0.47221548821548814, 'macro avg_recall': 0.3380392043698186, 'macro avg_f1-score': 0.23421637641961104, 'macro avg_support': 2261, 'weighted avg_precision': 0.524767641027703, 'weighted avg_recall': 0.5095090667846086, 'weighted avg_f1-score': 0.34899896364782973, 'weighted avg_support': 2261}\n",
            "[dev]\tglobal_step=8, results={'eval_loss': 1.214806969349201, 'HATE_precision': 0.46688741721854304, 'HATE_recall': 1.0, 'HATE_f1-score': 0.636568848758465, 'HATE_support': 141, 'OFFN_precision': 0.0, 'OFFN_recall': 0.0, 'OFFN_f1-score': 0.0, 'OFFN_support': 145, 'PRFN_precision': 0.0, 'PRFN_recall': 0.0, 'PRFN_f1-score': 0.0, 'PRFN_support': 16, 'accuracy': 0.46688741721854304, 'macro avg_precision': 0.15562913907284767, 'macro avg_recall': 0.3333333333333333, 'macro avg_f1-score': 0.21218961625282165, 'macro avg_support': 302, 'weighted avg_precision': 0.2179838603570019, 'weighted avg_recall': 0.46688741721854304, 'weighted avg_f1-score': 0.2972059856786211, 'weighted avg_support': 302}\n",
            "[train]\tglobal_step=9, results={'eval_loss': 1.016931036271547, 'HATE_precision': 0.5068797159343098, 'HATE_recall': 0.9991251093613298, 'HATE_f1-score': 0.6725559481743227, 'HATE_support': 1143, 'OFFN_precision': 0.0, 'OFFN_recall': 0.0, 'OFFN_f1-score': 0.0, 'OFFN_support': 451, 'PRFN_precision': 0.875, 'PRFN_recall': 0.010494752623688156, 'PRFN_f1-score': 0.020740740740740744, 'PRFN_support': 667, 'accuracy': 0.5081822202565237, 'macro avg_precision': 0.46062657197810325, 'macro avg_recall': 0.336539953995006, 'macro avg_f1-score': 0.23109889630502115, 'macro avg_support': 2261, 'weighted avg_precision': 0.5143690912485255, 'weighted avg_recall': 0.5081822202565237, 'weighted avg_f1-score': 0.34611478232522114, 'weighted avg_support': 2261}\n",
            "[dev]\tglobal_step=9, results={'eval_loss': 1.2128305985377386, 'HATE_precision': 0.46688741721854304, 'HATE_recall': 1.0, 'HATE_f1-score': 0.636568848758465, 'HATE_support': 141, 'OFFN_precision': 0.0, 'OFFN_recall': 0.0, 'OFFN_f1-score': 0.0, 'OFFN_support': 145, 'PRFN_precision': 0.0, 'PRFN_recall': 0.0, 'PRFN_f1-score': 0.0, 'PRFN_support': 16, 'accuracy': 0.46688741721854304, 'macro avg_precision': 0.15562913907284767, 'macro avg_recall': 0.3333333333333333, 'macro avg_f1-score': 0.21218961625282165, 'macro avg_support': 302, 'weighted avg_precision': 0.2179838603570019, 'weighted avg_recall': 0.46688741721854304, 'weighted avg_f1-score': 0.2972059856786211, 'weighted avg_support': 302}\n",
            "[train]\tglobal_step=10, results={'eval_loss': 1.016931036271547, 'HATE_precision': 0.5068797159343098, 'HATE_recall': 0.9991251093613298, 'HATE_f1-score': 0.6725559481743227, 'HATE_support': 1143, 'OFFN_precision': 0.0, 'OFFN_recall': 0.0, 'OFFN_f1-score': 0.0, 'OFFN_support': 451, 'PRFN_precision': 0.875, 'PRFN_recall': 0.010494752623688156, 'PRFN_f1-score': 0.020740740740740744, 'PRFN_support': 667, 'accuracy': 0.5081822202565237, 'macro avg_precision': 0.46062657197810325, 'macro avg_recall': 0.336539953995006, 'macro avg_f1-score': 0.23109889630502115, 'macro avg_support': 2261, 'weighted avg_precision': 0.5143690912485255, 'weighted avg_recall': 0.5081822202565237, 'weighted avg_f1-score': 0.34611478232522114, 'weighted avg_support': 2261}\n",
            "[dev]\tglobal_step=10, results={'eval_loss': 1.2128305985377386, 'HATE_precision': 0.46688741721854304, 'HATE_recall': 1.0, 'HATE_f1-score': 0.636568848758465, 'HATE_support': 141, 'OFFN_precision': 0.0, 'OFFN_recall': 0.0, 'OFFN_f1-score': 0.0, 'OFFN_support': 145, 'PRFN_precision': 0.0, 'PRFN_recall': 0.0, 'PRFN_f1-score': 0.0, 'PRFN_support': 16, 'accuracy': 0.46688741721854304, 'macro avg_precision': 0.15562913907284767, 'macro avg_recall': 0.3333333333333333, 'macro avg_f1-score': 0.21218961625282165, 'macro avg_support': 302, 'weighted avg_precision': 0.2179838603570019, 'weighted avg_recall': 0.46688741721854304, 'weighted avg_f1-score': 0.2972059856786211, 'weighted avg_support': 302}\n",
            "[train]\tglobal_step=11, results={'eval_loss': 1.016931036271547, 'HATE_precision': 0.5068797159343098, 'HATE_recall': 0.9991251093613298, 'HATE_f1-score': 0.6725559481743227, 'HATE_support': 1143, 'OFFN_precision': 0.0, 'OFFN_recall': 0.0, 'OFFN_f1-score': 0.0, 'OFFN_support': 451, 'PRFN_precision': 0.875, 'PRFN_recall': 0.010494752623688156, 'PRFN_f1-score': 0.020740740740740744, 'PRFN_support': 667, 'accuracy': 0.5081822202565237, 'macro avg_precision': 0.46062657197810325, 'macro avg_recall': 0.336539953995006, 'macro avg_f1-score': 0.23109889630502115, 'macro avg_support': 2261, 'weighted avg_precision': 0.5143690912485255, 'weighted avg_recall': 0.5081822202565237, 'weighted avg_f1-score': 0.34611478232522114, 'weighted avg_support': 2261}\n",
            "[dev]\tglobal_step=11, results={'eval_loss': 1.2128305985377386, 'HATE_precision': 0.46688741721854304, 'HATE_recall': 1.0, 'HATE_f1-score': 0.636568848758465, 'HATE_support': 141, 'OFFN_precision': 0.0, 'OFFN_recall': 0.0, 'OFFN_f1-score': 0.0, 'OFFN_support': 145, 'PRFN_precision': 0.0, 'PRFN_recall': 0.0, 'PRFN_f1-score': 0.0, 'PRFN_support': 16, 'accuracy': 0.46688741721854304, 'macro avg_precision': 0.15562913907284767, 'macro avg_recall': 0.3333333333333333, 'macro avg_f1-score': 0.21218961625282165, 'macro avg_support': 302, 'weighted avg_precision': 0.2179838603570019, 'weighted avg_recall': 0.46688741721854304, 'weighted avg_f1-score': 0.2972059856786211, 'weighted avg_support': 302}\n"
          ],
          "name": "stdout"
        }
      ]
    },
    {
      "cell_type": "code",
      "metadata": {
        "id": "LC6VkEx8QH6R",
        "colab_type": "code",
        "colab": {
          "base_uri": "https://localhost:8080/",
          "height": 51
        },
        "outputId": "57ed1d9f-f201-4ba4-9627-d7da814fa21b"
      },
      "source": [
        "from tensorboard import notebook\n",
        "notebook.list() # View open TensorBoard instances"
      ],
      "execution_count": 29,
      "outputs": [
        {
          "output_type": "stream",
          "text": [
            "Known TensorBoard instances:\n",
            "  - port 6006: logdir ./EN (started 4:11:57 ago; pid 902)\n"
          ],
          "name": "stdout"
        }
      ]
    },
    {
      "cell_type": "code",
      "metadata": {
        "id": "Hnrxc4seZWYS",
        "colab_type": "code",
        "colab": {}
      },
      "source": [
        "torch.cuda.empty_cache()\n",
        "\n",
        "lang, task = \"EN\", \"task_1\"\n",
        "task_labels = TASK_LABEL_IDS[task]\n",
        "processor = ClassificationProcessor(task_labels)\n",
        "DATA_DIR = os.path.join(\"./\", lang, task)"
      ],
      "execution_count": 0,
      "outputs": []
    },
    {
      "cell_type": "code",
      "metadata": {
        "id": "7d7MWZFxWYHS",
        "colab_type": "code",
        "colab": {
          "base_uri": "https://localhost:8080/",
          "height": 453
        },
        "outputId": "d983eac5-84c3-430d-b2d2-29ce1a5709fa"
      },
      "source": [
        "BERT_MODEL_TYPE='bert-base-cased'\n",
        "tokenizer = BertTokenizer.from_pretrained(BERT_MODEL_TYPE, do_lower_case=False)\n",
        "\n",
        "train_dataset = load_and_cache_examples(DATA_DIR, task, tokenizer, evaluate=False)\n",
        "eval_dataset = load_and_cache_examples(DATA_DIR, task, tokenizer, evaluate=True)\n",
        "\n",
        "model = BertForSequenceClassification.from_pretrained(BERT_MODEL_TYPE, num_labels=len(task_labels))\n",
        "model.to('cuda:0')\n",
        "\n",
        "global_step, tr_loss = train(train_dataset, model, tokenizer, eval_dataset, data_dir=DATA_DIR, task_labels=task_labels)\n",
        "logger.info(\" global_step = %s, average loss = %s\", global_step, tr_loss)"
      ],
      "execution_count": 31,
      "outputs": [
        {
          "output_type": "stream",
          "text": [
            "/usr/local/lib/python3.6/dist-packages/sklearn/metrics/classification.py:1437: UndefinedMetricWarning: Precision and F-score are ill-defined and being set to 0.0 in labels with no predicted samples.\n",
            "  'precision', 'predicted', average, warn_for)\n"
          ],
          "name": "stderr"
        },
        {
          "output_type": "stream",
          "text": [
            "[train]\tglobal_step=1, results={'eval_loss': 0.680732725707234, 'NOT_precision': 0.6136363636363636, 'NOT_recall': 1.0, 'NOT_f1-score': 0.7605633802816901, 'NOT_support': 3591, 'HOF_precision': 0.0, 'HOF_recall': 0.0, 'HOF_f1-score': 0.0, 'HOF_support': 2261, 'accuracy': 0.6136363636363636, 'macro avg_precision': 0.3068181818181818, 'macro avg_recall': 0.5, 'macro avg_f1-score': 0.38028169014084506, 'macro avg_support': 5852, 'weighted avg_precision': 0.3765495867768595, 'weighted avg_recall': 0.6136363636363636, 'weighted avg_f1-score': 0.46670934699103717, 'weighted avg_support': 5852}\n",
            "[dev]\tglobal_step=1, results={'eval_loss': 0.8472877740859985, 'NOT_precision': 0.41188118811881186, 'NOT_recall': 1.0, 'NOT_f1-score': 0.5834502103786816, 'NOT_support': 208, 'HOF_precision': 0.0, 'HOF_recall': 0.0, 'HOF_f1-score': 0.0, 'HOF_support': 297, 'accuracy': 0.41188118811881186, 'macro avg_precision': 0.20594059405940593, 'macro avg_recall': 0.5, 'macro avg_f1-score': 0.2917251051893408, 'macro avg_support': 505, 'weighted avg_precision': 0.1696461131261641, 'weighted avg_recall': 0.41188118811881186, 'weighted avg_f1-score': 0.24031216585894213, 'weighted avg_support': 505}\n",
            "[train]\tglobal_step=2, results={'eval_loss': 0.6733886343045313, 'NOT_precision': 0.6136363636363636, 'NOT_recall': 1.0, 'NOT_f1-score': 0.7605633802816901, 'NOT_support': 3591, 'HOF_precision': 0.0, 'HOF_recall': 0.0, 'HOF_f1-score': 0.0, 'HOF_support': 2261, 'accuracy': 0.6136363636363636, 'macro avg_precision': 0.3068181818181818, 'macro avg_recall': 0.5, 'macro avg_f1-score': 0.38028169014084506, 'macro avg_support': 5852, 'weighted avg_precision': 0.3765495867768595, 'weighted avg_recall': 0.6136363636363636, 'weighted avg_f1-score': 0.46670934699103717, 'weighted avg_support': 5852}\n",
            "[dev]\tglobal_step=2, results={'eval_loss': 0.8175599114461378, 'NOT_precision': 0.41188118811881186, 'NOT_recall': 1.0, 'NOT_f1-score': 0.5834502103786816, 'NOT_support': 208, 'HOF_precision': 0.0, 'HOF_recall': 0.0, 'HOF_f1-score': 0.0, 'HOF_support': 297, 'accuracy': 0.41188118811881186, 'macro avg_precision': 0.20594059405940593, 'macro avg_recall': 0.5, 'macro avg_f1-score': 0.2917251051893408, 'macro avg_support': 505, 'weighted avg_precision': 0.1696461131261641, 'weighted avg_recall': 0.41188118811881186, 'weighted avg_f1-score': 0.24031216585894213, 'weighted avg_support': 505}\n",
            "[train]\tglobal_step=3, results={'eval_loss': 0.6687411811263835, 'NOT_precision': 0.6136363636363636, 'NOT_recall': 1.0, 'NOT_f1-score': 0.7605633802816901, 'NOT_support': 3591, 'HOF_precision': 0.0, 'HOF_recall': 0.0, 'HOF_f1-score': 0.0, 'HOF_support': 2261, 'accuracy': 0.6136363636363636, 'macro avg_precision': 0.3068181818181818, 'macro avg_recall': 0.5, 'macro avg_f1-score': 0.38028169014084506, 'macro avg_support': 5852, 'weighted avg_precision': 0.3765495867768595, 'weighted avg_recall': 0.6136363636363636, 'weighted avg_f1-score': 0.46670934699103717, 'weighted avg_support': 5852}\n",
            "[dev]\tglobal_step=3, results={'eval_loss': 0.781815767288208, 'NOT_precision': 0.41188118811881186, 'NOT_recall': 1.0, 'NOT_f1-score': 0.5834502103786816, 'NOT_support': 208, 'HOF_precision': 0.0, 'HOF_recall': 0.0, 'HOF_f1-score': 0.0, 'HOF_support': 297, 'accuracy': 0.41188118811881186, 'macro avg_precision': 0.20594059405940593, 'macro avg_recall': 0.5, 'macro avg_f1-score': 0.2917251051893408, 'macro avg_support': 505, 'weighted avg_precision': 0.1696461131261641, 'weighted avg_recall': 0.41188118811881186, 'weighted avg_f1-score': 0.24031216585894213, 'weighted avg_support': 505}\n",
            "[train]\tglobal_step=4, results={'eval_loss': 0.6679043265395477, 'NOT_precision': 0.6136363636363636, 'NOT_recall': 1.0, 'NOT_f1-score': 0.7605633802816901, 'NOT_support': 3591, 'HOF_precision': 0.0, 'HOF_recall': 0.0, 'HOF_f1-score': 0.0, 'HOF_support': 2261, 'accuracy': 0.6136363636363636, 'macro avg_precision': 0.3068181818181818, 'macro avg_recall': 0.5, 'macro avg_f1-score': 0.38028169014084506, 'macro avg_support': 5852, 'weighted avg_precision': 0.3765495867768595, 'weighted avg_recall': 0.6136363636363636, 'weighted avg_f1-score': 0.46670934699103717, 'weighted avg_support': 5852}\n",
            "[dev]\tglobal_step=4, results={'eval_loss': 0.7769990211183374, 'NOT_precision': 0.41188118811881186, 'NOT_recall': 1.0, 'NOT_f1-score': 0.5834502103786816, 'NOT_support': 208, 'HOF_precision': 0.0, 'HOF_recall': 0.0, 'HOF_f1-score': 0.0, 'HOF_support': 297, 'accuracy': 0.41188118811881186, 'macro avg_precision': 0.20594059405940593, 'macro avg_recall': 0.5, 'macro avg_f1-score': 0.2917251051893408, 'macro avg_support': 505, 'weighted avg_precision': 0.1696461131261641, 'weighted avg_recall': 0.41188118811881186, 'weighted avg_f1-score': 0.24031216585894213, 'weighted avg_support': 505}\n",
            "[train]\tglobal_step=5, results={'eval_loss': 0.6667582171617962, 'NOT_precision': 0.6136363636363636, 'NOT_recall': 1.0, 'NOT_f1-score': 0.7605633802816901, 'NOT_support': 3591, 'HOF_precision': 0.0, 'HOF_recall': 0.0, 'HOF_f1-score': 0.0, 'HOF_support': 2261, 'accuracy': 0.6136363636363636, 'macro avg_precision': 0.3068181818181818, 'macro avg_recall': 0.5, 'macro avg_f1-score': 0.38028169014084506, 'macro avg_support': 5852, 'weighted avg_precision': 0.3765495867768595, 'weighted avg_recall': 0.6136363636363636, 'weighted avg_f1-score': 0.46670934699103717, 'weighted avg_support': 5852}\n",
            "[dev]\tglobal_step=5, results={'eval_loss': 0.7730699154463682, 'NOT_precision': 0.41188118811881186, 'NOT_recall': 1.0, 'NOT_f1-score': 0.5834502103786816, 'NOT_support': 208, 'HOF_precision': 0.0, 'HOF_recall': 0.0, 'HOF_f1-score': 0.0, 'HOF_support': 297, 'accuracy': 0.41188118811881186, 'macro avg_precision': 0.20594059405940593, 'macro avg_recall': 0.5, 'macro avg_f1-score': 0.2917251051893408, 'macro avg_support': 505, 'weighted avg_precision': 0.1696461131261641, 'weighted avg_recall': 0.41188118811881186, 'weighted avg_f1-score': 0.24031216585894213, 'weighted avg_support': 505}\n",
            "[train]\tglobal_step=6, results={'eval_loss': 0.6658534982898197, 'NOT_precision': 0.6136363636363636, 'NOT_recall': 1.0, 'NOT_f1-score': 0.7605633802816901, 'NOT_support': 3591, 'HOF_precision': 0.0, 'HOF_recall': 0.0, 'HOF_f1-score': 0.0, 'HOF_support': 2261, 'accuracy': 0.6136363636363636, 'macro avg_precision': 0.3068181818181818, 'macro avg_recall': 0.5, 'macro avg_f1-score': 0.38028169014084506, 'macro avg_support': 5852, 'weighted avg_precision': 0.3765495867768595, 'weighted avg_recall': 0.6136363636363636, 'weighted avg_f1-score': 0.46670934699103717, 'weighted avg_support': 5852}\n",
            "[dev]\tglobal_step=6, results={'eval_loss': 0.7740020047534596, 'NOT_precision': 0.41188118811881186, 'NOT_recall': 1.0, 'NOT_f1-score': 0.5834502103786816, 'NOT_support': 208, 'HOF_precision': 0.0, 'HOF_recall': 0.0, 'HOF_f1-score': 0.0, 'HOF_support': 297, 'accuracy': 0.41188118811881186, 'macro avg_precision': 0.20594059405940593, 'macro avg_recall': 0.5, 'macro avg_f1-score': 0.2917251051893408, 'macro avg_support': 505, 'weighted avg_precision': 0.1696461131261641, 'weighted avg_recall': 0.41188118811881186, 'weighted avg_f1-score': 0.24031216585894213, 'weighted avg_support': 505}\n",
            "[train]\tglobal_step=7, results={'eval_loss': 0.6654747992021138, 'NOT_precision': 0.6136363636363636, 'NOT_recall': 1.0, 'NOT_f1-score': 0.7605633802816901, 'NOT_support': 3591, 'HOF_precision': 0.0, 'HOF_recall': 0.0, 'HOF_f1-score': 0.0, 'HOF_support': 2261, 'accuracy': 0.6136363636363636, 'macro avg_precision': 0.3068181818181818, 'macro avg_recall': 0.5, 'macro avg_f1-score': 0.38028169014084506, 'macro avg_support': 5852, 'weighted avg_precision': 0.3765495867768595, 'weighted avg_recall': 0.6136363636363636, 'weighted avg_f1-score': 0.46670934699103717, 'weighted avg_support': 5852}\n",
            "[dev]\tglobal_step=7, results={'eval_loss': 0.7777888178825378, 'NOT_precision': 0.41188118811881186, 'NOT_recall': 1.0, 'NOT_f1-score': 0.5834502103786816, 'NOT_support': 208, 'HOF_precision': 0.0, 'HOF_recall': 0.0, 'HOF_f1-score': 0.0, 'HOF_support': 297, 'accuracy': 0.41188118811881186, 'macro avg_precision': 0.20594059405940593, 'macro avg_recall': 0.5, 'macro avg_f1-score': 0.2917251051893408, 'macro avg_support': 505, 'weighted avg_precision': 0.1696461131261641, 'weighted avg_recall': 0.41188118811881186, 'weighted avg_f1-score': 0.24031216585894213, 'weighted avg_support': 505}\n",
            "[train]\tglobal_step=8, results={'eval_loss': 0.6653232551256164, 'NOT_precision': 0.6136363636363636, 'NOT_recall': 1.0, 'NOT_f1-score': 0.7605633802816901, 'NOT_support': 3591, 'HOF_precision': 0.0, 'HOF_recall': 0.0, 'HOF_f1-score': 0.0, 'HOF_support': 2261, 'accuracy': 0.6136363636363636, 'macro avg_precision': 0.3068181818181818, 'macro avg_recall': 0.5, 'macro avg_f1-score': 0.38028169014084506, 'macro avg_support': 5852, 'weighted avg_precision': 0.3765495867768595, 'weighted avg_recall': 0.6136363636363636, 'weighted avg_f1-score': 0.46670934699103717, 'weighted avg_support': 5852}\n",
            "[dev]\tglobal_step=8, results={'eval_loss': 0.7824383567680012, 'NOT_precision': 0.41188118811881186, 'NOT_recall': 1.0, 'NOT_f1-score': 0.5834502103786816, 'NOT_support': 208, 'HOF_precision': 0.0, 'HOF_recall': 0.0, 'HOF_f1-score': 0.0, 'HOF_support': 297, 'accuracy': 0.41188118811881186, 'macro avg_precision': 0.20594059405940593, 'macro avg_recall': 0.5, 'macro avg_f1-score': 0.2917251051893408, 'macro avg_support': 505, 'weighted avg_precision': 0.1696461131261641, 'weighted avg_recall': 0.41188118811881186, 'weighted avg_f1-score': 0.24031216585894213, 'weighted avg_support': 505}\n",
            "[train]\tglobal_step=9, results={'eval_loss': 0.6653982315395699, 'NOT_precision': 0.6136363636363636, 'NOT_recall': 1.0, 'NOT_f1-score': 0.7605633802816901, 'NOT_support': 3591, 'HOF_precision': 0.0, 'HOF_recall': 0.0, 'HOF_f1-score': 0.0, 'HOF_support': 2261, 'accuracy': 0.6136363636363636, 'macro avg_precision': 0.3068181818181818, 'macro avg_recall': 0.5, 'macro avg_f1-score': 0.38028169014084506, 'macro avg_support': 5852, 'weighted avg_precision': 0.3765495867768595, 'weighted avg_recall': 0.6136363636363636, 'weighted avg_f1-score': 0.46670934699103717, 'weighted avg_support': 5852}\n",
            "[dev]\tglobal_step=9, results={'eval_loss': 0.7858306575905193, 'NOT_precision': 0.41188118811881186, 'NOT_recall': 1.0, 'NOT_f1-score': 0.5834502103786816, 'NOT_support': 208, 'HOF_precision': 0.0, 'HOF_recall': 0.0, 'HOF_f1-score': 0.0, 'HOF_support': 297, 'accuracy': 0.41188118811881186, 'macro avg_precision': 0.20594059405940593, 'macro avg_recall': 0.5, 'macro avg_f1-score': 0.2917251051893408, 'macro avg_support': 505, 'weighted avg_precision': 0.1696461131261641, 'weighted avg_recall': 0.41188118811881186, 'weighted avg_f1-score': 0.24031216585894213, 'weighted avg_support': 505}\n",
            "[train]\tglobal_step=10, results={'eval_loss': 0.6653982315395699, 'NOT_precision': 0.6136363636363636, 'NOT_recall': 1.0, 'NOT_f1-score': 0.7605633802816901, 'NOT_support': 3591, 'HOF_precision': 0.0, 'HOF_recall': 0.0, 'HOF_f1-score': 0.0, 'HOF_support': 2261, 'accuracy': 0.6136363636363636, 'macro avg_precision': 0.3068181818181818, 'macro avg_recall': 0.5, 'macro avg_f1-score': 0.38028169014084506, 'macro avg_support': 5852, 'weighted avg_precision': 0.3765495867768595, 'weighted avg_recall': 0.6136363636363636, 'weighted avg_f1-score': 0.46670934699103717, 'weighted avg_support': 5852}\n",
            "[dev]\tglobal_step=10, results={'eval_loss': 0.7858306575905193, 'NOT_precision': 0.41188118811881186, 'NOT_recall': 1.0, 'NOT_f1-score': 0.5834502103786816, 'NOT_support': 208, 'HOF_precision': 0.0, 'HOF_recall': 0.0, 'HOF_f1-score': 0.0, 'HOF_support': 297, 'accuracy': 0.41188118811881186, 'macro avg_precision': 0.20594059405940593, 'macro avg_recall': 0.5, 'macro avg_f1-score': 0.2917251051893408, 'macro avg_support': 505, 'weighted avg_precision': 0.1696461131261641, 'weighted avg_recall': 0.41188118811881186, 'weighted avg_f1-score': 0.24031216585894213, 'weighted avg_support': 505}\n",
            "[train]\tglobal_step=11, results={'eval_loss': 0.6653982315395699, 'NOT_precision': 0.6136363636363636, 'NOT_recall': 1.0, 'NOT_f1-score': 0.7605633802816901, 'NOT_support': 3591, 'HOF_precision': 0.0, 'HOF_recall': 0.0, 'HOF_f1-score': 0.0, 'HOF_support': 2261, 'accuracy': 0.6136363636363636, 'macro avg_precision': 0.3068181818181818, 'macro avg_recall': 0.5, 'macro avg_f1-score': 0.38028169014084506, 'macro avg_support': 5852, 'weighted avg_precision': 0.3765495867768595, 'weighted avg_recall': 0.6136363636363636, 'weighted avg_f1-score': 0.46670934699103717, 'weighted avg_support': 5852}\n",
            "[dev]\tglobal_step=11, results={'eval_loss': 0.7858306575905193, 'NOT_precision': 0.41188118811881186, 'NOT_recall': 1.0, 'NOT_f1-score': 0.5834502103786816, 'NOT_support': 208, 'HOF_precision': 0.0, 'HOF_recall': 0.0, 'HOF_f1-score': 0.0, 'HOF_support': 297, 'accuracy': 0.41188118811881186, 'macro avg_precision': 0.20594059405940593, 'macro avg_recall': 0.5, 'macro avg_f1-score': 0.2917251051893408, 'macro avg_support': 505, 'weighted avg_precision': 0.1696461131261641, 'weighted avg_recall': 0.41188118811881186, 'weighted avg_f1-score': 0.24031216585894213, 'weighted avg_support': 505}\n"
          ],
          "name": "stdout"
        }
      ]
    },
    {
      "cell_type": "code",
      "metadata": {
        "id": "ndzCC3ziZY_L",
        "colab_type": "code",
        "colab": {
          "base_uri": "https://localhost:8080/",
          "height": 453
        },
        "outputId": "f0a7b7df-9e24-4e07-8bb3-b00e5b4ff2da"
      },
      "source": [
        "torch.cuda.empty_cache()\n",
        "\n",
        "lang, task = \"EN\", \"task_3\"\n",
        "task_labels = TASK_LABEL_IDS[task]\n",
        "processor = ClassificationProcessor(task_labels)\n",
        "DATA_DIR = os.path.join(\"./\", lang, task)\n",
        "\n",
        "\n",
        "BERT_MODEL_TYPE='bert-base-cased'\n",
        "tokenizer = BertTokenizer.from_pretrained(BERT_MODEL_TYPE, do_lower_case=False)\n",
        "\n",
        "train_dataset = load_and_cache_examples(DATA_DIR, task, tokenizer, evaluate=False)\n",
        "eval_dataset = load_and_cache_examples(DATA_DIR, task, tokenizer, evaluate=True)\n",
        "\n",
        "model = BertForSequenceClassification.from_pretrained(BERT_MODEL_TYPE, num_labels=len(task_labels))\n",
        "model.to('cuda:0')\n",
        "\n",
        "global_step, tr_loss = train(train_dataset, model, tokenizer, eval_dataset, data_dir=DATA_DIR, task_labels=task_labels)\n",
        "logger.info(\" global_step = %s, average loss = %s\", global_step, tr_loss)"
      ],
      "execution_count": 32,
      "outputs": [
        {
          "output_type": "stream",
          "text": [
            "/usr/local/lib/python3.6/dist-packages/sklearn/metrics/classification.py:1437: UndefinedMetricWarning: Precision and F-score are ill-defined and being set to 0.0 in labels with no predicted samples.\n",
            "  'precision', 'predicted', average, warn_for)\n"
          ],
          "name": "stderr"
        },
        {
          "output_type": "stream",
          "text": [
            "[train]\tglobal_step=1, results={'eval_loss': 0.4590335896140651, 'TIN_precision': 0.9026979212737727, 'TIN_recall': 1.0, 'TIN_f1-score': 0.9488609948860995, 'TIN_support': 2041, 'UNT_precision': 0.0, 'UNT_recall': 0.0, 'UNT_f1-score': 0.0, 'UNT_support': 220, 'accuracy': 0.9026979212737727, 'macro avg_precision': 0.45134896063688634, 'macro avg_recall': 0.5, 'macro avg_f1-score': 0.47443049744304977, 'macro avg_support': 2261, 'weighted avg_precision': 0.8148635370719902, 'weighted avg_recall': 0.9026979212737727, 'weighted avg_f1-score': 0.8565348476614459, 'weighted avg_support': 2261}\n",
            "[dev]\tglobal_step=1, results={'eval_loss': 0.4800882041454315, 'TIN_precision': 0.8996655518394648, 'TIN_recall': 1.0, 'TIN_f1-score': 0.9471830985915493, 'TIN_support': 269, 'UNT_precision': 0.0, 'UNT_recall': 0.0, 'UNT_f1-score': 0.0, 'UNT_support': 30, 'accuracy': 0.8996655518394648, 'macro avg_precision': 0.4498327759197324, 'macro avg_recall': 0.5, 'macro avg_f1-score': 0.4735915492957746, 'macro avg_support': 299, 'weighted avg_precision': 0.8093981051666088, 'weighted avg_recall': 0.8996655518394648, 'weighted avg_f1-score': 0.8521480050873804, 'weighted avg_support': 299}\n",
            "[train]\tglobal_step=2, results={'eval_loss': 0.3988388867754685, 'TIN_precision': 0.9026979212737727, 'TIN_recall': 1.0, 'TIN_f1-score': 0.9488609948860995, 'TIN_support': 2041, 'UNT_precision': 0.0, 'UNT_recall': 0.0, 'UNT_f1-score': 0.0, 'UNT_support': 220, 'accuracy': 0.9026979212737727, 'macro avg_precision': 0.45134896063688634, 'macro avg_recall': 0.5, 'macro avg_f1-score': 0.47443049744304977, 'macro avg_support': 2261, 'weighted avg_precision': 0.8148635370719902, 'weighted avg_recall': 0.9026979212737727, 'weighted avg_f1-score': 0.8565348476614459, 'weighted avg_support': 2261}\n",
            "[dev]\tglobal_step=2, results={'eval_loss': 0.42016873222130996, 'TIN_precision': 0.8996655518394648, 'TIN_recall': 1.0, 'TIN_f1-score': 0.9471830985915493, 'TIN_support': 269, 'UNT_precision': 0.0, 'UNT_recall': 0.0, 'UNT_f1-score': 0.0, 'UNT_support': 30, 'accuracy': 0.8996655518394648, 'macro avg_precision': 0.4498327759197324, 'macro avg_recall': 0.5, 'macro avg_f1-score': 0.4735915492957746, 'macro avg_support': 299, 'weighted avg_precision': 0.8093981051666088, 'weighted avg_recall': 0.8996655518394648, 'weighted avg_f1-score': 0.8521480050873804, 'weighted avg_support': 299}\n",
            "[train]\tglobal_step=3, results={'eval_loss': 0.3635962409408469, 'TIN_precision': 0.9026979212737727, 'TIN_recall': 1.0, 'TIN_f1-score': 0.9488609948860995, 'TIN_support': 2041, 'UNT_precision': 0.0, 'UNT_recall': 0.0, 'UNT_f1-score': 0.0, 'UNT_support': 220, 'accuracy': 0.9026979212737727, 'macro avg_precision': 0.45134896063688634, 'macro avg_recall': 0.5, 'macro avg_f1-score': 0.47443049744304977, 'macro avg_support': 2261, 'weighted avg_precision': 0.8148635370719902, 'weighted avg_recall': 0.9026979212737727, 'weighted avg_f1-score': 0.8565348476614459, 'weighted avg_support': 2261}\n",
            "[dev]\tglobal_step=3, results={'eval_loss': 0.3710635911959868, 'TIN_precision': 0.8996655518394648, 'TIN_recall': 1.0, 'TIN_f1-score': 0.9471830985915493, 'TIN_support': 269, 'UNT_precision': 0.0, 'UNT_recall': 0.0, 'UNT_f1-score': 0.0, 'UNT_support': 30, 'accuracy': 0.8996655518394648, 'macro avg_precision': 0.4498327759197324, 'macro avg_recall': 0.5, 'macro avg_f1-score': 0.4735915492957746, 'macro avg_support': 299, 'weighted avg_precision': 0.8093981051666088, 'weighted avg_recall': 0.8996655518394648, 'weighted avg_f1-score': 0.8521480050873804, 'weighted avg_support': 299}\n",
            "[train]\tglobal_step=4, results={'eval_loss': 0.3440818490166413, 'TIN_precision': 0.9026979212737727, 'TIN_recall': 1.0, 'TIN_f1-score': 0.9488609948860995, 'TIN_support': 2041, 'UNT_precision': 0.0, 'UNT_recall': 0.0, 'UNT_f1-score': 0.0, 'UNT_support': 220, 'accuracy': 0.9026979212737727, 'macro avg_precision': 0.45134896063688634, 'macro avg_recall': 0.5, 'macro avg_f1-score': 0.47443049744304977, 'macro avg_support': 2261, 'weighted avg_precision': 0.8148635370719902, 'weighted avg_recall': 0.9026979212737727, 'weighted avg_f1-score': 0.8565348476614459, 'weighted avg_support': 2261}\n",
            "[dev]\tglobal_step=4, results={'eval_loss': 0.3454291602739921, 'TIN_precision': 0.8996655518394648, 'TIN_recall': 1.0, 'TIN_f1-score': 0.9471830985915493, 'TIN_support': 269, 'UNT_precision': 0.0, 'UNT_recall': 0.0, 'UNT_f1-score': 0.0, 'UNT_support': 30, 'accuracy': 0.8996655518394648, 'macro avg_precision': 0.4498327759197324, 'macro avg_recall': 0.5, 'macro avg_f1-score': 0.4735915492957746, 'macro avg_support': 299, 'weighted avg_precision': 0.8093981051666088, 'weighted avg_recall': 0.8996655518394648, 'weighted avg_f1-score': 0.8521480050873804, 'weighted avg_support': 299}\n",
            "[train]\tglobal_step=5, results={'eval_loss': 0.3385216844709296, 'TIN_precision': 0.9026979212737727, 'TIN_recall': 1.0, 'TIN_f1-score': 0.9488609948860995, 'TIN_support': 2041, 'UNT_precision': 0.0, 'UNT_recall': 0.0, 'UNT_f1-score': 0.0, 'UNT_support': 220, 'accuracy': 0.9026979212737727, 'macro avg_precision': 0.45134896063688634, 'macro avg_recall': 0.5, 'macro avg_f1-score': 0.47443049744304977, 'macro avg_support': 2261, 'weighted avg_precision': 0.8148635370719902, 'weighted avg_recall': 0.9026979212737727, 'weighted avg_f1-score': 0.8565348476614459, 'weighted avg_support': 2261}\n",
            "[dev]\tglobal_step=5, results={'eval_loss': 0.3322788660342877, 'TIN_precision': 0.8996655518394648, 'TIN_recall': 1.0, 'TIN_f1-score': 0.9471830985915493, 'TIN_support': 269, 'UNT_precision': 0.0, 'UNT_recall': 0.0, 'UNT_f1-score': 0.0, 'UNT_support': 30, 'accuracy': 0.8996655518394648, 'macro avg_precision': 0.4498327759197324, 'macro avg_recall': 0.5, 'macro avg_f1-score': 0.4735915492957746, 'macro avg_support': 299, 'weighted avg_precision': 0.8093981051666088, 'weighted avg_recall': 0.8996655518394648, 'weighted avg_f1-score': 0.8521480050873804, 'weighted avg_support': 299}\n",
            "[train]\tglobal_step=6, results={'eval_loss': 0.3320641401566957, 'TIN_precision': 0.9026979212737727, 'TIN_recall': 1.0, 'TIN_f1-score': 0.9488609948860995, 'TIN_support': 2041, 'UNT_precision': 0.0, 'UNT_recall': 0.0, 'UNT_f1-score': 0.0, 'UNT_support': 220, 'accuracy': 0.9026979212737727, 'macro avg_precision': 0.45134896063688634, 'macro avg_recall': 0.5, 'macro avg_f1-score': 0.47443049744304977, 'macro avg_support': 2261, 'weighted avg_precision': 0.8148635370719902, 'weighted avg_recall': 0.9026979212737727, 'weighted avg_f1-score': 0.8565348476614459, 'weighted avg_support': 2261}\n",
            "[dev]\tglobal_step=6, results={'eval_loss': 0.3282048146312053, 'TIN_precision': 0.8996655518394648, 'TIN_recall': 1.0, 'TIN_f1-score': 0.9471830985915493, 'TIN_support': 269, 'UNT_precision': 0.0, 'UNT_recall': 0.0, 'UNT_f1-score': 0.0, 'UNT_support': 30, 'accuracy': 0.8996655518394648, 'macro avg_precision': 0.4498327759197324, 'macro avg_recall': 0.5, 'macro avg_f1-score': 0.4735915492957746, 'macro avg_support': 299, 'weighted avg_precision': 0.8093981051666088, 'weighted avg_recall': 0.8996655518394648, 'weighted avg_f1-score': 0.8521480050873804, 'weighted avg_support': 299}\n",
            "[train]\tglobal_step=7, results={'eval_loss': 0.32889947820650905, 'TIN_precision': 0.9026979212737727, 'TIN_recall': 1.0, 'TIN_f1-score': 0.9488609948860995, 'TIN_support': 2041, 'UNT_precision': 0.0, 'UNT_recall': 0.0, 'UNT_f1-score': 0.0, 'UNT_support': 220, 'accuracy': 0.9026979212737727, 'macro avg_precision': 0.45134896063688634, 'macro avg_recall': 0.5, 'macro avg_f1-score': 0.47443049744304977, 'macro avg_support': 2261, 'weighted avg_precision': 0.8148635370719902, 'weighted avg_recall': 0.9026979212737727, 'weighted avg_f1-score': 0.8565348476614459, 'weighted avg_support': 2261}\n",
            "[dev]\tglobal_step=7, results={'eval_loss': 0.3284956016219579, 'TIN_precision': 0.8996655518394648, 'TIN_recall': 1.0, 'TIN_f1-score': 0.9471830985915493, 'TIN_support': 269, 'UNT_precision': 0.0, 'UNT_recall': 0.0, 'UNT_f1-score': 0.0, 'UNT_support': 30, 'accuracy': 0.8996655518394648, 'macro avg_precision': 0.4498327759197324, 'macro avg_recall': 0.5, 'macro avg_f1-score': 0.4735915492957746, 'macro avg_support': 299, 'weighted avg_precision': 0.8093981051666088, 'weighted avg_recall': 0.8996655518394648, 'weighted avg_f1-score': 0.8521480050873804, 'weighted avg_support': 299}\n",
            "[train]\tglobal_step=8, results={'eval_loss': 0.32849682028356353, 'TIN_precision': 0.9026979212737727, 'TIN_recall': 1.0, 'TIN_f1-score': 0.9488609948860995, 'TIN_support': 2041, 'UNT_precision': 0.0, 'UNT_recall': 0.0, 'UNT_f1-score': 0.0, 'UNT_support': 220, 'accuracy': 0.9026979212737727, 'macro avg_precision': 0.45134896063688634, 'macro avg_recall': 0.5, 'macro avg_f1-score': 0.47443049744304977, 'macro avg_support': 2261, 'weighted avg_precision': 0.8148635370719902, 'weighted avg_recall': 0.9026979212737727, 'weighted avg_f1-score': 0.8565348476614459, 'weighted avg_support': 2261}\n",
            "[dev]\tglobal_step=8, results={'eval_loss': 0.32895462730756175, 'TIN_precision': 0.8996655518394648, 'TIN_recall': 1.0, 'TIN_f1-score': 0.9471830985915493, 'TIN_support': 269, 'UNT_precision': 0.0, 'UNT_recall': 0.0, 'UNT_f1-score': 0.0, 'UNT_support': 30, 'accuracy': 0.8996655518394648, 'macro avg_precision': 0.4498327759197324, 'macro avg_recall': 0.5, 'macro avg_f1-score': 0.4735915492957746, 'macro avg_support': 299, 'weighted avg_precision': 0.8093981051666088, 'weighted avg_recall': 0.8996655518394648, 'weighted avg_f1-score': 0.8521480050873804, 'weighted avg_support': 299}\n",
            "[train]\tglobal_step=9, results={'eval_loss': 0.3281894171708509, 'TIN_precision': 0.9026979212737727, 'TIN_recall': 1.0, 'TIN_f1-score': 0.9488609948860995, 'TIN_support': 2041, 'UNT_precision': 0.0, 'UNT_recall': 0.0, 'UNT_f1-score': 0.0, 'UNT_support': 220, 'accuracy': 0.9026979212737727, 'macro avg_precision': 0.45134896063688634, 'macro avg_recall': 0.5, 'macro avg_f1-score': 0.47443049744304977, 'macro avg_support': 2261, 'weighted avg_precision': 0.8148635370719902, 'weighted avg_recall': 0.9026979212737727, 'weighted avg_f1-score': 0.8565348476614459, 'weighted avg_support': 2261}\n",
            "[dev]\tglobal_step=9, results={'eval_loss': 0.329326668037818, 'TIN_precision': 0.8996655518394648, 'TIN_recall': 1.0, 'TIN_f1-score': 0.9471830985915493, 'TIN_support': 269, 'UNT_precision': 0.0, 'UNT_recall': 0.0, 'UNT_f1-score': 0.0, 'UNT_support': 30, 'accuracy': 0.8996655518394648, 'macro avg_precision': 0.4498327759197324, 'macro avg_recall': 0.5, 'macro avg_f1-score': 0.4735915492957746, 'macro avg_support': 299, 'weighted avg_precision': 0.8093981051666088, 'weighted avg_recall': 0.8996655518394648, 'weighted avg_f1-score': 0.8521480050873804, 'weighted avg_support': 299}\n",
            "[train]\tglobal_step=10, results={'eval_loss': 0.3281894171708509, 'TIN_precision': 0.9026979212737727, 'TIN_recall': 1.0, 'TIN_f1-score': 0.9488609948860995, 'TIN_support': 2041, 'UNT_precision': 0.0, 'UNT_recall': 0.0, 'UNT_f1-score': 0.0, 'UNT_support': 220, 'accuracy': 0.9026979212737727, 'macro avg_precision': 0.45134896063688634, 'macro avg_recall': 0.5, 'macro avg_f1-score': 0.47443049744304977, 'macro avg_support': 2261, 'weighted avg_precision': 0.8148635370719902, 'weighted avg_recall': 0.9026979212737727, 'weighted avg_f1-score': 0.8565348476614459, 'weighted avg_support': 2261}\n",
            "[dev]\tglobal_step=10, results={'eval_loss': 0.329326668037818, 'TIN_precision': 0.8996655518394648, 'TIN_recall': 1.0, 'TIN_f1-score': 0.9471830985915493, 'TIN_support': 269, 'UNT_precision': 0.0, 'UNT_recall': 0.0, 'UNT_f1-score': 0.0, 'UNT_support': 30, 'accuracy': 0.8996655518394648, 'macro avg_precision': 0.4498327759197324, 'macro avg_recall': 0.5, 'macro avg_f1-score': 0.4735915492957746, 'macro avg_support': 299, 'weighted avg_precision': 0.8093981051666088, 'weighted avg_recall': 0.8996655518394648, 'weighted avg_f1-score': 0.8521480050873804, 'weighted avg_support': 299}\n",
            "[train]\tglobal_step=11, results={'eval_loss': 0.3281894171708509, 'TIN_precision': 0.9026979212737727, 'TIN_recall': 1.0, 'TIN_f1-score': 0.9488609948860995, 'TIN_support': 2041, 'UNT_precision': 0.0, 'UNT_recall': 0.0, 'UNT_f1-score': 0.0, 'UNT_support': 220, 'accuracy': 0.9026979212737727, 'macro avg_precision': 0.45134896063688634, 'macro avg_recall': 0.5, 'macro avg_f1-score': 0.47443049744304977, 'macro avg_support': 2261, 'weighted avg_precision': 0.8148635370719902, 'weighted avg_recall': 0.9026979212737727, 'weighted avg_f1-score': 0.8565348476614459, 'weighted avg_support': 2261}\n",
            "[dev]\tglobal_step=11, results={'eval_loss': 0.329326668037818, 'TIN_precision': 0.8996655518394648, 'TIN_recall': 1.0, 'TIN_f1-score': 0.9471830985915493, 'TIN_support': 269, 'UNT_precision': 0.0, 'UNT_recall': 0.0, 'UNT_f1-score': 0.0, 'UNT_support': 30, 'accuracy': 0.8996655518394648, 'macro avg_precision': 0.4498327759197324, 'macro avg_recall': 0.5, 'macro avg_f1-score': 0.4735915492957746, 'macro avg_support': 299, 'weighted avg_precision': 0.8093981051666088, 'weighted avg_recall': 0.8996655518394648, 'weighted avg_f1-score': 0.8521480050873804, 'weighted avg_support': 299}\n"
          ],
          "name": "stdout"
        }
      ]
    },
    {
      "cell_type": "code",
      "metadata": {
        "id": "WOYk1mObcWAk",
        "colab_type": "code",
        "colab": {}
      },
      "source": [
        ""
      ],
      "execution_count": 0,
      "outputs": []
    }
  ]
}