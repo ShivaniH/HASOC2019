{
 "cells": [
  {
   "cell_type": "markdown",
   "metadata": {},
   "source": [
    "## Tasks and Classes\n",
    "\n",
    "\n",
    "### Sub-task A :-\n",
    "Sub-task A focus on Hate speech and Offensive language identification offered for English, German, Hindi. Sub-task A is coarse-grained binary classification in which participating system are required to classify tweets into two class, namely: Hate and Offensive (HOF) and Non- Hate and offensive (NOT).\n",
    "\n",
    "* **(NOT) Non Hate-Offensive** - This post does not contain any Hate speech, offensive content.\n",
    "* **(HOF) Hate and Offensive** - This post contains Hate, offensive, and profane content.\n",
    "\n",
    "In our annotation, we label a post as HOF if it contains any form of non-acceptable language such as hate speech, aggression, profanity otherwise NOT.\n",
    "\n",
    "\n",
    "### Sub-task B :-\n",
    "Sub-task B is a fine-grained classification. Hate-speech and offensive posts from the sub-task A are further classified into three categories.\n",
    "\n",
    "* **(HATE) Hate speech** :- Posts under this class contain Hate speech content.\n",
    "* **(OFFN) Offenive** :- Posts under this class contain offensive content.\n",
    "* **(PRFN) Profane** :- These posts contain profane words.\n",
    "\n",
    "\n",
    "#### HATE SPEECH\n",
    "Describing negative attributes or deficiencies to groups of individuals because they are members of a group (e.g. all poor people are stupid). Hateful comment toward groups because of race, political opinion, sexual orientation, gender, social status, health condition or similar.\n",
    "\n",
    "#### OFFENSIVE\n",
    "Posts which are degrading, dehumanizing,insulting an individual,threatening with violent acts are categorized into OFFENSIVE category.\n",
    "\n",
    "#### PROFANITY\n",
    "Unacceptable language in the absence of insults and abuse. This typically concerns the usage of swearwords (Scheiße, Fuck etc.) and cursing (Zur Hölle! Verdammt! etc.) are categorized into this category.\n",
    "We expect most posts to be OTHER, some to be HATE and the other two categories to be less frequent. Dubious cases which are difficult to decide even for humans, should be left out.\n",
    "\n",
    "\n",
    "### Sub-task C :-\n",
    "Sub-task c will check the type of offense. Only posts labeled as HOF in sub-task A are included in sub-task C. The two categories in sub-task C are the following: \n",
    "\n",
    "* **Targeted Insult (TIN)**: Posts containing an insult/threat to an individual, group, or others.\n",
    "* **Untargeted (UNT)**: Posts containing nontargeted profanity and swearing. Posts with general profanity are not targeted, but they contain non-acceptable language.\n",
    "The multilingual HASOC Corpus will be sampled from Facebook and Twitter and distributed in tab separated format. Participants are allowed to use external resources and other datasets for this task. Dataset will be prepared in 3 languages (German, English and code-mixed hindi).\n",
    "\n",
    "The size of Training data corpus is approximately 8000 posts for each language and Test data is approximately 1000 posts for the each language. Classification systems in all tasks will be evaluated using either macro-averaged F1-score or weighted F1-score."
   ]
  },
  {
   "cell_type": "code",
   "execution_count": 12,
   "metadata": {},
   "outputs": [],
   "source": [
    "%matplotlib inline\n",
    "\n",
    "import pandas as pd\n",
    "import matplotlib.pyplot as plt\n",
    "import seaborn as sns\n",
    "from sklearn.feature_extraction.text import CountVectorizer\n",
    "from sklearn.feature_extraction.text import TfidfTransformer\n",
    "from sklearn.linear_model import LogisticRegressionCV\n",
    "import sklearn.metrics as sk_metrics\n",
    "from sklearn.pipeline import Pipeline"
   ]
  },
  {
   "cell_type": "code",
   "execution_count": 2,
   "metadata": {},
   "outputs": [],
   "source": [
    "DATA_PATHS_TRAIN = {\n",
    "    \"EN\": \"../data/raw/training_data/english_dataset.tsv\",\n",
    "    \"DE\": \"../data/raw/training_data/german_dataset.tsv\",\n",
    "    \"HI\": \"../data/raw/training_data/hindi_dataset.tsv\"\n",
    "}\n",
    "DATA_PATHS_DEV = {\n",
    "    \"EN\": \"../data/raw/teaser_data/english_dataset.tsv\",\n",
    "    \"DE\": \"../data/raw/teaser_data/german_dataset.tsv\",\n",
    "    \"HI\": \"../data/raw/teaser_data/hindi_dataset.tsv\"\n",
    "}\n",
    "DATA_COLUMNS = [\"row_id\", \"text\", \"task_1\", \"task_2\", \"task_3\"]\n",
    "NUM_LANGUAGES = len(DATA_PATHS_TRAIN)"
   ]
  },
  {
   "cell_type": "code",
   "execution_count": 3,
   "metadata": {},
   "outputs": [
    {
     "data": {
      "text/html": [
       "<div>\n",
       "<style scoped>\n",
       "    .dataframe tbody tr th:only-of-type {\n",
       "        vertical-align: middle;\n",
       "    }\n",
       "\n",
       "    .dataframe tbody tr th {\n",
       "        vertical-align: top;\n",
       "    }\n",
       "\n",
       "    .dataframe thead th {\n",
       "        text-align: right;\n",
       "    }\n",
       "</style>\n",
       "<table border=\"1\" class=\"dataframe\">\n",
       "  <thead>\n",
       "    <tr style=\"text-align: right;\">\n",
       "      <th></th>\n",
       "      <th>text_id</th>\n",
       "      <th>text</th>\n",
       "      <th>task_1</th>\n",
       "      <th>task_2</th>\n",
       "      <th>task_3</th>\n",
       "    </tr>\n",
       "  </thead>\n",
       "  <tbody>\n",
       "    <tr>\n",
       "      <th>0</th>\n",
       "      <td>hasoc_en_1</td>\n",
       "      <td>#DhoniKeepsTheGlove | WATCH: Sports Minister K...</td>\n",
       "      <td>NOT</td>\n",
       "      <td>NONE</td>\n",
       "      <td>NONE</td>\n",
       "    </tr>\n",
       "    <tr>\n",
       "      <th>1</th>\n",
       "      <td>hasoc_en_2</td>\n",
       "      <td>@politico No. We should remember very clearly ...</td>\n",
       "      <td>HOF</td>\n",
       "      <td>HATE</td>\n",
       "      <td>TIN</td>\n",
       "    </tr>\n",
       "    <tr>\n",
       "      <th>2</th>\n",
       "      <td>hasoc_en_3</td>\n",
       "      <td>@cricketworldcup Guess who would be the winner...</td>\n",
       "      <td>NOT</td>\n",
       "      <td>NONE</td>\n",
       "      <td>NONE</td>\n",
       "    </tr>\n",
       "    <tr>\n",
       "      <th>3</th>\n",
       "      <td>hasoc_en_4</td>\n",
       "      <td>Corbyn is too politically intellectual for #Bo...</td>\n",
       "      <td>NOT</td>\n",
       "      <td>NONE</td>\n",
       "      <td>NONE</td>\n",
       "    </tr>\n",
       "    <tr>\n",
       "      <th>4</th>\n",
       "      <td>hasoc_en_5</td>\n",
       "      <td>All the best to #TeamIndia for another swimmin...</td>\n",
       "      <td>NOT</td>\n",
       "      <td>NONE</td>\n",
       "      <td>NONE</td>\n",
       "    </tr>\n",
       "  </tbody>\n",
       "</table>\n",
       "</div>"
      ],
      "text/plain": [
       "      text_id                                               text task_1  \\\n",
       "0  hasoc_en_1  #DhoniKeepsTheGlove | WATCH: Sports Minister K...    NOT   \n",
       "1  hasoc_en_2  @politico No. We should remember very clearly ...    HOF   \n",
       "2  hasoc_en_3  @cricketworldcup Guess who would be the winner...    NOT   \n",
       "3  hasoc_en_4  Corbyn is too politically intellectual for #Bo...    NOT   \n",
       "4  hasoc_en_5  All the best to #TeamIndia for another swimmin...    NOT   \n",
       "\n",
       "  task_2 task_3  \n",
       "0   NONE   NONE  \n",
       "1   HATE    TIN  \n",
       "2   NONE   NONE  \n",
       "3   NONE   NONE  \n",
       "4   NONE   NONE  "
      ]
     },
     "execution_count": 3,
     "metadata": {},
     "output_type": "execute_result"
    }
   ],
   "source": [
    "df = pd.read_csv(DATA_PATHS_TRAIN[\"EN\"], sep=\"\\t\").fillna(\"NULL\")\n",
    "df.head()"
   ]
  },
  {
   "cell_type": "code",
   "execution_count": 6,
   "metadata": {
    "scrolled": false
   },
   "outputs": [
    {
     "name": "stdout",
     "output_type": "stream",
     "text": [
      "train\n",
      "Index(['text_id', 'text', 'task_1', 'task_2', 'task_3'], dtype='object')\n",
      "Index(['text_id', 'text', 'task_1', 'task_2'], dtype='object')\n",
      "Index(['text_id', 'text', 'task_1', 'task_2', 'task_3'], dtype='object')\n",
      "dev\n",
      "Index(['text_id', 'text', 'task_1', 'task_2', 'task_3'], dtype='object')\n",
      "Index(['text_id', 'text', 'task_1', 'task_2'], dtype='object')\n",
      "Index(['text_id', 'text', 'task_1', 'task_2', 'task_3'], dtype='object')\n"
     ]
    },
    {
     "data": {
      "image/png": "[encoded data removed]",
      "text/plain": [
       "<Figure size 1080x288 with 3 Axes>"
      ]
     },
     "metadata": {
      "needs_background": "light"
     },
     "output_type": "display_data"
    },
    {
     "data": {
      "image/png": "[encoded data removed]",
      "text/plain": [
       "<Figure size 720x288 with 2 Axes>"
      ]
     },
     "metadata": {
      "needs_background": "light"
     },
     "output_type": "display_data"
    },
    {
     "data": {
      "image/png": "[encoded data removed]",
      "text/plain": [
       "<Figure size 1080x288 with 3 Axes>"
      ]
     },
     "metadata": {
      "needs_background": "light"
     },
     "output_type": "display_data"
    },
    {
     "data": {
      "image/png": "[encoded data removed]",
      "text/plain": [
       "<Figure size 1080x288 with 3 Axes>"
      ]
     },
     "metadata": {
      "needs_background": "light"
     },
     "output_type": "display_data"
    },
    {
     "data": {
      "image/png": "[encoded data removed]",
      "text/plain": [
       "<Figure size 720x288 with 2 Axes>"
      ]
     },
     "metadata": {
      "needs_background": "light"
     },
     "output_type": "display_data"
    },
    {
     "data": {
      "image/png": "[encoded data removed]",
      "text/plain": [
       "<Figure size 1080x288 with 3 Axes>"
      ]
     },
     "metadata": {
      "needs_background": "light"
     },
     "output_type": "display_data"
    }
   ],
   "source": [
    "for data_type, DATA_PATHS in [(\"train\", DATA_PATHS_TRAIN), (\"dev\", DATA_PATHS_DEV)]:\n",
    "    print(data_type)\n",
    "    for lang, path in DATA_PATHS.items():\n",
    "        df = pd.read_csv(path, sep=\"\\t\").fillna(\"NULL\")\n",
    "        task_cols = df.filter(regex=r'task_*', axis=1).columns\n",
    "        print(df.columns)\n",
    "        n_cols = len(task_cols)\n",
    "        fig, ax = plt.subplots(1, n_cols, sharey=True, figsize=(5*n_cols, 4))\n",
    "        for axi, task in zip(ax.flatten(), task_cols):\n",
    "            y = df[task].str.upper().replace(\"NULL\", \"NONE\")\n",
    "            sns.countplot(y, order=sorted(y.unique()), ax=axi, color=\"0.3\")\n",
    "        fig.suptitle(f\"data_type={data_type}, lang={lang}\")\n",
    "        sns.despine(offset=10)"
   ]
  },
  {
   "cell_type": "code",
   "execution_count": 13,
   "metadata": {
    "scrolled": false
   },
   "outputs": [
    {
     "name": "stdout",
     "output_type": "stream",
     "text": [
      "==================== EN ====================\n",
      "-------------------- task_1 --------------------\n"
     ]
    },
    {
     "name": "stderr",
     "output_type": "stream",
     "text": [
      "F:\\ProgramData\\Miniconda3\\envs\\SocialMediaIE\\lib\\site-packages\\sklearn\\model_selection\\_split.py:2053: FutureWarning: You should specify a value for 'cv' instead of relying on the default value. The default value will change from 3 to 5 in version 0.22.\n",
      "  warnings.warn(CV_WARNING, FutureWarning)\n",
      "F:\\ProgramData\\Miniconda3\\envs\\SocialMediaIE\\lib\\site-packages\\sklearn\\linear_model\\logistic.py:758: ConvergenceWarning: lbfgs failed to converge. Increase the number of iterations.\n",
      "  \"of iterations.\", ConvergenceWarning)\n"
     ]
    },
    {
     "name": "stdout",
     "output_type": "stream",
     "text": [
      "accuracy[train]\t= 0.998\n",
      "              precision    recall  f1-score   support\n",
      "\n",
      "         HOF       1.00      1.00      1.00      2261\n",
      "         NOT       1.00      1.00      1.00      3591\n",
      "\n",
      "   micro avg       1.00      1.00      1.00      5852\n",
      "   macro avg       1.00      1.00      1.00      5852\n",
      "weighted avg       1.00      1.00      1.00      5852\n",
      "\n",
      "accuracy[dev]\t= 0.517\n",
      "              precision    recall  f1-score   support\n",
      "\n",
      "         HOF       0.65      0.38      0.48       297\n",
      "         NOT       0.45      0.72      0.55       208\n",
      "\n",
      "   micro avg       0.52      0.52      0.52       505\n",
      "   macro avg       0.55      0.55      0.51       505\n",
      "weighted avg       0.57      0.52      0.51       505\n",
      "\n",
      "-------------------- task_2 --------------------\n"
     ]
    },
    {
     "name": "stderr",
     "output_type": "stream",
     "text": [
      "F:\\ProgramData\\Miniconda3\\envs\\SocialMediaIE\\lib\\site-packages\\sklearn\\model_selection\\_split.py:2053: FutureWarning: You should specify a value for 'cv' instead of relying on the default value. The default value will change from 3 to 5 in version 0.22.\n",
      "  warnings.warn(CV_WARNING, FutureWarning)\n",
      "F:\\ProgramData\\Miniconda3\\envs\\SocialMediaIE\\lib\\site-packages\\sklearn\\linear_model\\logistic.py:758: ConvergenceWarning: lbfgs failed to converge. Increase the number of iterations.\n",
      "  \"of iterations.\", ConvergenceWarning)\n"
     ]
    },
    {
     "name": "stdout",
     "output_type": "stream",
     "text": [
      "accuracy[train]\t= 1.000\n",
      "              precision    recall  f1-score   support\n",
      "\n",
      "        HATE       1.00      1.00      1.00      1143\n",
      "        OFFN       1.00      1.00      1.00       451\n",
      "        PRFN       1.00      1.00      1.00       667\n",
      "\n",
      "   micro avg       1.00      1.00      1.00      2261\n",
      "   macro avg       1.00      1.00      1.00      2261\n",
      "weighted avg       1.00      1.00      1.00      2261\n",
      "\n",
      "accuracy[dev]\t= 0.474\n",
      "              precision    recall  f1-score   support\n",
      "\n",
      "        HATE       0.48      0.95      0.64       141\n",
      "        OFFN       0.53      0.06      0.10       145\n",
      "        PRFN       0.11      0.06      0.08        16\n",
      "\n",
      "   micro avg       0.47      0.47      0.47       302\n",
      "   macro avg       0.38      0.36      0.27       302\n",
      "weighted avg       0.49      0.47      0.35       302\n",
      "\n",
      "-------------------- task_3 --------------------\n"
     ]
    },
    {
     "name": "stderr",
     "output_type": "stream",
     "text": [
      "F:\\ProgramData\\Miniconda3\\envs\\SocialMediaIE\\lib\\site-packages\\sklearn\\model_selection\\_split.py:2053: FutureWarning: You should specify a value for 'cv' instead of relying on the default value. The default value will change from 3 to 5 in version 0.22.\n",
      "  warnings.warn(CV_WARNING, FutureWarning)\n",
      "F:\\ProgramData\\Miniconda3\\envs\\SocialMediaIE\\lib\\site-packages\\sklearn\\linear_model\\logistic.py:758: ConvergenceWarning: lbfgs failed to converge. Increase the number of iterations.\n",
      "  \"of iterations.\", ConvergenceWarning)\n"
     ]
    },
    {
     "name": "stdout",
     "output_type": "stream",
     "text": [
      "accuracy[train]\t= 1.000\n",
      "              precision    recall  f1-score   support\n",
      "\n",
      "         TIN       1.00      1.00      1.00      2041\n",
      "         UNT       1.00      1.00      1.00       220\n",
      "\n",
      "   micro avg       1.00      1.00      1.00      2261\n",
      "   macro avg       1.00      1.00      1.00      2261\n",
      "weighted avg       1.00      1.00      1.00      2261\n",
      "\n",
      "accuracy[dev]\t= 0.893\n",
      "              precision    recall  f1-score   support\n",
      "\n",
      "         TIN       0.90      0.99      0.94       269\n",
      "         UNT       0.25      0.03      0.06        30\n",
      "\n",
      "   micro avg       0.89      0.89      0.89       299\n",
      "   macro avg       0.58      0.51      0.50       299\n",
      "weighted avg       0.84      0.89      0.85       299\n",
      "\n",
      "==================== DE ====================\n",
      "-------------------- task_1 --------------------\n"
     ]
    },
    {
     "name": "stderr",
     "output_type": "stream",
     "text": [
      "F:\\ProgramData\\Miniconda3\\envs\\SocialMediaIE\\lib\\site-packages\\sklearn\\model_selection\\_split.py:2053: FutureWarning: You should specify a value for 'cv' instead of relying on the default value. The default value will change from 3 to 5 in version 0.22.\n",
      "  warnings.warn(CV_WARNING, FutureWarning)\n"
     ]
    },
    {
     "name": "stdout",
     "output_type": "stream",
     "text": [
      "accuracy[train]\t= 1.000\n",
      "              precision    recall  f1-score   support\n",
      "\n",
      "         HOF       1.00      1.00      1.00       407\n",
      "         NOT       1.00      1.00      1.00      3412\n",
      "\n",
      "   micro avg       1.00      1.00      1.00      3819\n",
      "   macro avg       1.00      1.00      1.00      3819\n",
      "weighted avg       1.00      1.00      1.00      3819\n",
      "\n",
      "accuracy[dev]\t= 0.919\n",
      "              precision    recall  f1-score   support\n",
      "\n",
      "         HOF       0.80      0.25      0.38        79\n",
      "         NOT       0.92      0.99      0.96       715\n",
      "\n",
      "   micro avg       0.92      0.92      0.92       794\n",
      "   macro avg       0.86      0.62      0.67       794\n",
      "weighted avg       0.91      0.92      0.90       794\n",
      "\n",
      "-------------------- task_2 --------------------\n"
     ]
    },
    {
     "name": "stderr",
     "output_type": "stream",
     "text": [
      "F:\\ProgramData\\Miniconda3\\envs\\SocialMediaIE\\lib\\site-packages\\sklearn\\model_selection\\_split.py:2053: FutureWarning: You should specify a value for 'cv' instead of relying on the default value. The default value will change from 3 to 5 in version 0.22.\n",
      "  warnings.warn(CV_WARNING, FutureWarning)\n"
     ]
    },
    {
     "name": "stdout",
     "output_type": "stream",
     "text": [
      "accuracy[train]\t= 1.000\n",
      "              precision    recall  f1-score   support\n",
      "\n",
      "        HATE       1.00      1.00      1.00       111\n",
      "        OFFN       1.00      1.00      1.00       210\n",
      "        PRFN       1.00      1.00      1.00        86\n",
      "\n",
      "   micro avg       1.00      1.00      1.00       407\n",
      "   macro avg       1.00      1.00      1.00       407\n",
      "weighted avg       1.00      1.00      1.00       407\n",
      "\n",
      "accuracy[dev]\t= 0.481\n",
      "              precision    recall  f1-score   support\n",
      "\n",
      "        HATE       0.75      0.32      0.44        38\n",
      "        OFFN       0.37      0.81      0.51        21\n",
      "        PRFN       0.53      0.45      0.49        20\n",
      "\n",
      "   micro avg       0.48      0.48      0.48        79\n",
      "   macro avg       0.55      0.53      0.48        79\n",
      "weighted avg       0.59      0.48      0.47        79\n",
      "\n",
      "==================== HI ====================\n",
      "-------------------- task_1 --------------------\n"
     ]
    },
    {
     "name": "stderr",
     "output_type": "stream",
     "text": [
      "F:\\ProgramData\\Miniconda3\\envs\\SocialMediaIE\\lib\\site-packages\\sklearn\\model_selection\\_split.py:2053: FutureWarning: You should specify a value for 'cv' instead of relying on the default value. The default value will change from 3 to 5 in version 0.22.\n",
      "  warnings.warn(CV_WARNING, FutureWarning)\n"
     ]
    },
    {
     "name": "stdout",
     "output_type": "stream",
     "text": [
      "accuracy[train]\t= 0.921\n",
      "              precision    recall  f1-score   support\n",
      "\n",
      "         HOF       0.93      0.92      0.93      2469\n",
      "         NOT       0.91      0.92      0.92      2196\n",
      "\n",
      "   micro avg       0.92      0.92      0.92      4665\n",
      "   macro avg       0.92      0.92      0.92      4665\n",
      "weighted avg       0.92      0.92      0.92      4665\n",
      "\n",
      "accuracy[dev]\t= 0.676\n",
      "              precision    recall  f1-score   support\n",
      "\n",
      "         HOF       0.82      0.50      0.62        72\n",
      "         NOT       0.61      0.88      0.72        64\n",
      "\n",
      "   micro avg       0.68      0.68      0.68       136\n",
      "   macro avg       0.71      0.69      0.67       136\n",
      "weighted avg       0.72      0.68      0.67       136\n",
      "\n",
      "-------------------- task_2 --------------------\n"
     ]
    },
    {
     "name": "stderr",
     "output_type": "stream",
     "text": [
      "F:\\ProgramData\\Miniconda3\\envs\\SocialMediaIE\\lib\\site-packages\\sklearn\\model_selection\\_split.py:2053: FutureWarning: You should specify a value for 'cv' instead of relying on the default value. The default value will change from 3 to 5 in version 0.22.\n",
      "  warnings.warn(CV_WARNING, FutureWarning)\n"
     ]
    },
    {
     "name": "stdout",
     "output_type": "stream",
     "text": [
      "accuracy[train]\t= 0.881\n",
      "              precision    recall  f1-score   support\n",
      "\n",
      "        HATE       0.88      0.78      0.83       556\n",
      "        OFFN       0.86      0.82      0.84       676\n",
      "        PRFN       0.89      0.96      0.92      1237\n",
      "\n",
      "   micro avg       0.88      0.88      0.88      2469\n",
      "   macro avg       0.88      0.85      0.86      2469\n",
      "weighted avg       0.88      0.88      0.88      2469\n",
      "\n",
      "accuracy[dev]\t= 0.597\n",
      "              precision    recall  f1-score   support\n",
      "\n",
      "        HATE       0.14      0.50      0.22         4\n",
      "        OFFN       0.13      0.40      0.20         5\n",
      "        PRFN       0.91      0.62      0.74        63\n",
      "\n",
      "   micro avg       0.60      0.60      0.60        72\n",
      "   macro avg       0.39      0.51      0.39        72\n",
      "weighted avg       0.81      0.60      0.67        72\n",
      "\n",
      "-------------------- task_3 --------------------\n"
     ]
    },
    {
     "name": "stderr",
     "output_type": "stream",
     "text": [
      "F:\\ProgramData\\Miniconda3\\envs\\SocialMediaIE\\lib\\site-packages\\sklearn\\model_selection\\_split.py:2053: FutureWarning: You should specify a value for 'cv' instead of relying on the default value. The default value will change from 3 to 5 in version 0.22.\n",
      "  warnings.warn(CV_WARNING, FutureWarning)\n",
      "F:\\ProgramData\\Miniconda3\\envs\\SocialMediaIE\\lib\\site-packages\\sklearn\\linear_model\\logistic.py:758: ConvergenceWarning: lbfgs failed to converge. Increase the number of iterations.\n",
      "  \"of iterations.\", ConvergenceWarning)\n"
     ]
    },
    {
     "name": "stdout",
     "output_type": "stream",
     "text": [
      "accuracy[train]\t= 0.951\n",
      "              precision    recall  f1-score   support\n",
      "\n",
      "         TIN       0.95      0.97      0.96      1545\n",
      "         UNT       0.95      0.92      0.93       924\n",
      "\n",
      "   micro avg       0.95      0.95      0.95      2469\n",
      "   macro avg       0.95      0.94      0.95      2469\n",
      "weighted avg       0.95      0.95      0.95      2469\n",
      "\n",
      "accuracy[dev]\t= 0.542\n",
      "              precision    recall  f1-score   support\n",
      "\n",
      "         TIN       0.97      0.52      0.67        66\n",
      "         UNT       0.14      0.83      0.23         6\n",
      "\n",
      "   micro avg       0.54      0.54      0.54        72\n",
      "   macro avg       0.55      0.67      0.45        72\n",
      "weighted avg       0.90      0.54      0.64        72\n",
      "\n"
     ]
    }
   ],
   "source": [
    "scorer = sk_metrics.make_scorer(sk_metrics.f1_score, average=\"macro\")\n",
    "for lang in [\"EN\", \"DE\", \"HI\"]:\n",
    "    df_train=pd.read_csv(DATA_PATHS_TRAIN[lang], sep='\\t').fillna(\"NULL\")\n",
    "    df_dev=pd.read_csv(DATA_PATHS_DEV[lang], sep='\\t').fillna(\"NULL\")\n",
    "    X_train = df_train[\"text\"]\n",
    "    X_dev = df_dev[\"text\"]\n",
    "    print(f\"{'='*20} {lang} {'='*20}\")\n",
    "    for task in [\"task_1\", \"task_2\", \"task_3\"]:\n",
    "        if task not in df_train.columns:\n",
    "            continue\n",
    "        print(f\"{'-'*20} {task} {'-'*20}\")\n",
    "        y_train = df_train[task].str.upper().replace(\"NULL\", \"NONE\")\n",
    "        y_dev = df_dev[task].str.upper().replace(\"NULL\", \"NONE\")\n",
    "        clf = Pipeline([ \n",
    "            ('vect', CountVectorizer()),\n",
    "            ('tfidf', TfidfTransformer()),\n",
    "            ('clf', LogisticRegressionCV(n_jobs=2, multi_class=\"multinomial\", scoring=scorer)),\n",
    "        ])\n",
    "        idx = y_train != \"NONE\"\n",
    "        clf.fit(X_train[idx], y_train[idx])\n",
    "        y_pred = clf.predict(X_train)\n",
    "        print(f\"accuracy[train]\\t= {sk_metrics.accuracy_score(y_train[idx], y_pred[idx]):.3f}\")\n",
    "        print(sk_metrics.classification_report(y_train[idx], y_pred[idx]))\n",
    "        idx = y_dev != \"NONE\"\n",
    "        y_pred = clf.predict(X_dev)\n",
    "        print(f\"accuracy[dev]\\t= {sk_metrics.accuracy_score(y_dev[idx], y_pred[idx]):.3f}\")\n",
    "        print(sk_metrics.classification_report(y_dev[idx], y_pred[idx]))        "
   ]
  },
  {
   "cell_type": "code",
   "execution_count": null,
   "metadata": {},
   "outputs": [],
   "source": []
  }
 ],
 "metadata": {
  "kernelspec": {
   "display_name": "Python 3",
   "language": "python",
   "name": "python3"
  },
  "language_info": {
   "codemirror_mode": {
    "name": "ipython",
    "version": 3
   },
   "file_extension": ".py",
   "mimetype": "text/x-python",
   "name": "python",
   "nbconvert_exporter": "python",
   "pygments_lexer": "ipython3",
   "version": "3.6.8"
  }
 },
 "nbformat": 4,
 "nbformat_minor": 2
}
